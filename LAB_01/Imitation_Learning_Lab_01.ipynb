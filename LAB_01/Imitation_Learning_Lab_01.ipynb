{
  "nbformat": 4,
  "nbformat_minor": 0,
  "metadata": {
    "colab": {
      "name": "Imitation_Learning_Lab_01.ipynb",
      "provenance": [],
      "collapsed_sections": [
        "xdeHy9MGAbO_",
        "3C3mf1jw3aww",
        "0K8iccKbF754",
        "u7foeM827r6I",
        "3jQFnEqE7je3",
        "d0550zylM3Jd",
        "SVOfCTfrrWZd",
        "93-BHhi5CKI6",
        "EGLryFyMMJjF",
        "qzMyjklbCArD",
        "v3nF62p95yEN",
        "W7mj915v_IJm",
        "36xmtUnNPyy0",
        "kT6wY7mZR3t9",
        "NBmAcuSs6YLa",
        "2NHKjGHz6eMU",
        "NzFdRgl2Dco-",
        "hcspmJAw8Rt5",
        "3MqYXBvy8dMg",
        "3aeNE6EQ6wDc",
        "BjxHHVWF6zr4",
        "pcf61r-o63sz"
      ]
    },
    "kernelspec": {
      "display_name": "Python 3",
      "name": "python3"
    },
    "language_info": {
      "name": "python"
    },
    "accelerator": "GPU"
  },
  "cells": [
    {
      "cell_type": "markdown",
      "metadata": {
        "id": "ZMawyLEW_AGn"
      },
      "source": [
        "# Imitation Learning - Lab 01\n",
        "\n",
        "O objetivo desta laboratório é experimentar a aprendizagem por imitação (imitation learning), em que o modelo (rede) aprende a imitar as ações de um especialista (humano). No lugar de experiências coletadas de um especialista humano, aqui as demonstrações serão fornecidas por meio de uma política de especialistas que treinamos para você. \n",
        "\n",
        "- Usaremos um tipo de aprendizado por imitação, conhecido como clonagem comportamental (behavioral cloning). Isso significa que treinaremos nossa rede de forma supervisionada.\n",
        "- A saída da rede é a política de direção, representada pelo ângulo de direção desejado e/ou aceleração ou frenagem. Por exemplo, podemos ter um neurônio de saída de regressão para o ângulo de direção e um neurônio para aceleração ou frenagem (já que não podemos ter os dois ao mesmo tempo).\n",
        "- A entrada da rede pode ser:\n",
        "Dados brutos do sensor. Por exemplo, uma imagem da câmera. \n",
        "- Criaremos o conjunto de dados de treinamento com a ajuda do especialista. Em cada etapa da jornada, iremos registrar:\n",
        "    - O estado atual do ambiente. Estes podem ser os dados brutos do sensor ou a representação da vista de cima para baixo. Usaremos o estado atual como entrada para o modelo.\n",
        "    - As ações do especialista no estado atual do ambiente (ângulo de direção, freio / aceleração). Esses serão os dados de destino da rede. Durante o treinamento, vamos minimizar o erro entre as previsões da rede e as ações usando gradient descent. Desta forma, ensinaremos a rede a imitar o especialista.\n",
        "\n",
        "<br>\n",
        "\n",
        "A seguir está uma ilustração do cenário de Behavioral Cloning:\n",
        "\n",
        "<br>\n",
        "\n",
        "<img src='https://drive.google.com/uc?id=1ozI1x1hNgIa_IXNsxUm4V-YFADXlKxus' width=\"600\" height=\"400\">\n"
      ]
    },
    {
      "cell_type": "markdown",
      "metadata": {
        "id": "xdeHy9MGAbO_"
      },
      "source": [
        "## (Início) Configuração\n",
        "\n",
        "Você precisará fazer uma cópia deste notebook em seu Google Drive antes de editar. Você pode fazer isso com **Arquivo → Salvar uma cópia no Drive**."
      ]
    },
    {
      "cell_type": "code",
      "metadata": {
        "id": "EUVKyTmt1caC"
      },
      "source": [
        "# !pip install google-colab > /dev/null 2>&1"
      ],
      "execution_count": 1,
      "outputs": []
    },
    {
      "cell_type": "markdown",
      "metadata": {
        "id": "IVXv60zj3LIJ"
      },
      "source": [
        ""
      ]
    },
    {
      "cell_type": "code",
      "metadata": {
        "id": "8-CfOCXFoxd3",
        "colab": {
          "base_uri": "https://localhost:8080/"
        },
        "outputId": "3f377bfe-0e47-4bf7-d639-4f048d3ccb2a"
      },
      "source": [
        "import os\n",
        "from google.colab import drive\n",
        "drive.mount(\"/content/gdrive\")"
      ],
      "execution_count": 2,
      "outputs": [
        {
          "output_type": "stream",
          "name": "stdout",
          "text": [
            "Mounted at /content/gdrive\n"
          ]
        }
      ]
    },
    {
      "cell_type": "code",
      "metadata": {
        "id": "-QKwdXhlAyiw"
      },
      "source": [
        "# Seu trabalho será armazenado em uma pasta chamada `minicurso_rl` por padrão \n",
        "# para evitar que o tempo limite da instância do Colab exclua suas edições\n",
        "\n",
        "\n",
        "DRIVE_PATH = \"/content/gdrive/My\\ Drive/minicurso_rl\"\n",
        "DRIVE_PYTHON_PATH = DRIVE_PATH.replace(\"\\\\\", \"\")\n",
        "if not os.path.exists(DRIVE_PYTHON_PATH):\n",
        "  %mkdir $DRIVE_PATH\n",
        "\n",
        "SYM_PATH = \"/content/minicurso_rl\"\n",
        "if not os.path.exists(SYM_PATH):\n",
        "  !ln -s $DRIVE_PATH $SYM_PATH"
      ],
      "execution_count": 3,
      "outputs": []
    },
    {
      "cell_type": "markdown",
      "metadata": {
        "id": "1eDEgSARy30b"
      },
      "source": [
        "Instalando as dependências"
      ]
    },
    {
      "cell_type": "code",
      "metadata": {
        "id": "L2V0MD29BoEr"
      },
      "source": [
        "!pip install -U cloudpickle > /dev/null 2>&1 \n",
        "!pip install \"gym[all]\" > /dev/null 2>&1 \n",
        "!pip install \"gym[box2d]\" > /dev/null 2>&1 \n",
        "!pip install \"stable-baselines3[extra]\" > /dev/null 2>&1 \n",
        "\n",
        "!apt-get install x11-utils > /dev/null 2>&1 \n",
        "!pip install pyglet > /dev/null 2>&1 \n",
        "!apt-get install -y xvfb python-opengl > /dev/null 2>&1\n",
        "\n",
        "!pip install pyvirtualdisplay > /dev/null 2>&1\n",
        "\n",
        "!pip install plotly > /dev/null 2>&1\n",
        "\n",
        "!pip install pyarrow > /dev/null 2>&1\n",
        "!pip install -U scikit-learn > /dev/null 2>&1"
      ],
      "execution_count": 4,
      "outputs": []
    },
    {
      "cell_type": "code",
      "metadata": {
        "id": "jnns06ycVXRs",
        "colab": {
          "base_uri": "https://localhost:8080/"
        },
        "outputId": "3701cf25-7fbd-433f-fffb-8ac9f9cab2dc"
      },
      "source": [
        "! wget http://www.atarimania.com/roms/Roms.rar\n",
        "! mkdir /content/ROM/\n",
        "! unrar e /content/Roms.rar /content/ROM/\n",
        "! python -m atari_py.import_roms /content/ROM/ > /dev/null 2>&1"
      ],
      "execution_count": 5,
      "outputs": [
        {
          "output_type": "stream",
          "name": "stdout",
          "text": [
            "--2021-10-13 05:02:55--  http://www.atarimania.com/roms/Roms.rar\n",
            "Resolving www.atarimania.com (www.atarimania.com)... 195.154.81.199\n",
            "Connecting to www.atarimania.com (www.atarimania.com)|195.154.81.199|:80... connected.\n",
            "HTTP request sent, awaiting response... 200 OK\n",
            "Length: 11128004 (11M) [application/x-rar-compressed]\n",
            "Saving to: ‘Roms.rar’\n",
            "\n",
            "Roms.rar            100%[===================>]  10.61M   629KB/s    in 18s     \n",
            "\n",
            "2021-10-13 05:03:13 (608 KB/s) - ‘Roms.rar’ saved [11128004/11128004]\n",
            "\n",
            "\n",
            "UNRAR 5.50 freeware      Copyright (c) 1993-2017 Alexander Roshal\n",
            "\n",
            "\n",
            "Extracting from /content/Roms.rar\n",
            "\n",
            "Extracting  /content/ROM/HC ROMS.zip                                     \b\b\b\b 36%\b\b\b\b\b  OK \n",
            "Extracting  /content/ROM/ROMS.zip                                        \b\b\b\b 74%\b\b\b\b 99%\b\b\b\b\b  OK \n",
            "All OK\n"
          ]
        }
      ]
    },
    {
      "cell_type": "code",
      "metadata": {
        "id": "LgehcZJTarmv",
        "colab": {
          "base_uri": "https://localhost:8080/"
        },
        "outputId": "d57e4056-d49e-4f90-aed9-3c18036282ba"
      },
      "source": [
        "!cd minicurso_rl && gdown --id 1ZV5fvCbU_gbTy1AraSR-ymNsiNQesBvt"
      ],
      "execution_count": 6,
      "outputs": [
        {
          "output_type": "stream",
          "name": "stdout",
          "text": [
            "Downloading...\n",
            "From: https://drive.google.com/uc?id=1ZV5fvCbU_gbTy1AraSR-ymNsiNQesBvt\n",
            "To: /content/gdrive/My Drive/minicurso_rl/EnduroNoFrameskip-v4.zip\n",
            "100% 20.8M/20.8M [00:00<00:00, 57.1MB/s]\n"
          ]
        }
      ]
    },
    {
      "cell_type": "markdown",
      "metadata": {
        "id": "3C3mf1jw3aww"
      },
      "source": [
        "## (Sempre) Importações"
      ]
    },
    {
      "cell_type": "code",
      "metadata": {
        "id": "2GYJ_PX56rSR"
      },
      "source": [
        "import torch\n",
        "import random\n",
        "import numpy as np\n",
        "\n",
        "# torch.multiprocessing.set_start_method('spawn')\n",
        "torch.manual_seed(10)\n",
        "random.seed(10)\n",
        "np.random.seed(10)"
      ],
      "execution_count": 7,
      "outputs": []
    },
    {
      "cell_type": "markdown",
      "metadata": {
        "id": "0K8iccKbF754"
      },
      "source": [
        "## (Sempre) Ambiente\n",
        "\n",
        "O ambiente utilizado será o Enduro-v0, um ambiente [OpenAI Gym](https://gym.openai.com/envs/Enduro-v0/) de corrida.\n",
        "\n",
        "[Gym](https://gym.openai.com/docs/) é um kit de ferramentas para desenvolver e comparar algoritmos de aprendizagem por reforço. Ele não faz suposições sobre a estrutura do seu agente e é compatível com qualquer biblioteca de computação numérica.\n",
        "\n",
        "O estado do ambiente Enduro consiste em 210x160 pixels.Uma recompensa de +1 é dada para cada carro ultrapassado e -1 para cada carro que passa pelo agente (mas a recompensa mínima é 0).\n",
        "\n",
        "O objetivo consiste em manobrar um carro de corrida no National Enduro, uma corrida de resistência de longa distância. O objetivo da corrida é passar um certo número de carros a cada dia. Isso permitirá que o jogador continue correndo no dia seguinte. O piloto deve evitar outros pilotos e ultrapassar 200 carros no primeiro dia e 300 carros em cada dia seguinte.\n",
        "\n",
        "Conforme o tempo passa, a visibilidade também muda. Quando é noite no jogo, o jogador só pode ver as luzes traseiras dos carros que se aproximam. Com o passar dos dias, os carros também se tornarão mais difíceis de evitar. O clima e a hora do dia são fatores importantes para jogar. Durante o dia, o jogador pode dirigir por um trecho de gelo na estrada que limitaria o controle do veículo, ou um trecho de neblina pode reduzir a visibilidade.\n",
        "\n",
        "[Descrição da Wikipedia](https://en.wikipedia.org/wiki/Enduro_%28video_game%29)"
      ]
    },
    {
      "cell_type": "code",
      "metadata": {
        "id": "1e2x7FjtERCk"
      },
      "source": [
        "# Procedimento para renderizar o ambiente no Google Colab\n",
        "\n",
        "from pyvirtualdisplay import Display\n",
        "display = Display(visible=0, size=(1024, 768))\n",
        "display.start()\n",
        "\n",
        "\n",
        "from matplotlib import pyplot as plt, animation\n",
        "%matplotlib inline\n",
        "from IPython import display\n",
        "\n",
        "def create_anim(frames, dpi, fps):\n",
        "    plt.figure(figsize=(frames[0].shape[1] / dpi, frames[0].shape[0] / dpi), dpi=dpi)\n",
        "    patch = plt.imshow(frames[0])\n",
        "    def setup():\n",
        "        plt.axis('off')\n",
        "    def animate(i):\n",
        "        patch.set_data(frames[i])\n",
        "    anim = animation.FuncAnimation(plt.gcf(), animate, init_func=setup, frames=len(frames), interval=fps)\n",
        "    return anim\n",
        "\n",
        "def display_anim(frames, dpi=72, fps=60):\n",
        "    anim = create_anim(frames, dpi, fps)\n",
        "    return anim.to_jshtml()\n",
        "\n",
        "def save_anim(frames, filename, dpi=72, fps=50):\n",
        "    anim = create_anim(frames, dpi, fps)\n",
        "    anim.save(filename)\n",
        "\n",
        "\n",
        "class trigger:\n",
        "    def __init__(self):\n",
        "        self._trigger = True\n",
        "\n",
        "    def __call__(self, e):\n",
        "        return self._trigger\n",
        "\n",
        "    def set(self, t):\n",
        "        self._trigger = t"
      ],
      "execution_count": 8,
      "outputs": []
    },
    {
      "cell_type": "code",
      "metadata": {
        "id": "j7pkNyBjzMy1"
      },
      "source": [
        "import gym\n",
        "environment_id = \"EnduroNoFrameskip-v4\"       # Nome do ambiente utilizado"
      ],
      "execution_count": 9,
      "outputs": []
    },
    {
      "cell_type": "markdown",
      "metadata": {
        "id": "u7foeM827r6I"
      },
      "source": [
        "## Visualizar\n",
        "\n",
        "Interagimos no ambiente através da função `step`, que nos retorna quatro valores: observação, recompensa, done, info. Esta é uma implementação do clássico “loop agente-ambiente”. A cada passo de tempo, o agente escolhe uma ação e o ambiente retorna uma observação e a recompensa.\n",
        "<br>\n",
        "\n",
        "<img src='https://drive.google.com/uc?id=1TXdjYkbfm2EvtCbVIpe5BkUgXJY1d1zE' width=\"600\" height=\"250\">"
      ]
    },
    {
      "cell_type": "code",
      "metadata": {
        "colab": {
          "base_uri": "https://localhost:8080/"
        },
        "id": "--EwWyyKEN4P",
        "outputId": "c576be8f-58bb-48c5-cf10-f0921ca57b42"
      },
      "source": [
        "env = gym.make(environment_id)                # Criando o ambiente\n",
        "\n",
        "frames = []\n",
        "episodes = 1\n",
        "for episode in range(1, episodes+1):\n",
        "    obs = env.reset()     # Retorna a observação inicial\n",
        "    done = False\n",
        "    score = 0\n",
        "    while not done:\n",
        "        frames.append(env.render(mode='rgb_array'))     # Renderizando o ambiente\n",
        "        action = env.action_space.sample()              # Seleciona uma ação aleatória\n",
        "        n_obs, reward, done, info = env.step(action)    # Executa a ação selecionada\n",
        "        score += reward\n",
        "        obs = n_obs.copy()\n",
        "    print(\"\\n\\nEpisódio: {} Pontuação: {}\".format(episode,score))\n",
        "env.close()"
      ],
      "execution_count": null,
      "outputs": [
        {
          "name": "stdout",
          "output_type": "stream",
          "text": [
            "\n",
            "\n",
            "Episódio: 1 Pontuação: 0.0\n"
          ]
        }
      ]
    },
    {
      "cell_type": "code",
      "metadata": {
        "id": "3JvCqsFCEadc"
      },
      "source": [
        "display.HTML(display_anim(frames))\n"
      ],
      "execution_count": null,
      "outputs": []
    },
    {
      "cell_type": "markdown",
      "metadata": {
        "id": "3jQFnEqE7je3"
      },
      "source": [
        "## (Sempre) Carregar Modelo Especialista\n",
        "\n",
        "O modelo especialista que estamos disponibilizando para você é um agente de aprendizado por reforço treinado com o algoritmo Proximal Policy Optmization (PPO). Para isso, foi utilizado a biblioteca [Stable Baselines3](https://stable-baselines3.readthedocs.io/en/master/), que contém uma série de implementações de algoritmos de Aprendizado por Reforço em PyTorch."
      ]
    },
    {
      "cell_type": "code",
      "metadata": {
        "id": "IH6R9BG2bY3n"
      },
      "source": [
        "from stable_baselines3 import PPO, A2C\n",
        "from stable_baselines3.common.evaluation import evaluate_policy\n",
        "from stable_baselines3.common.atari_wrappers import AtariWrapper\n",
        "from stable_baselines3.common.env_util import make_vec_env\n",
        "from stable_baselines3.common.vec_env import VecFrameStack"
      ],
      "execution_count": 10,
      "outputs": []
    },
    {
      "cell_type": "code",
      "metadata": {
        "id": "g4UFIcHJ7is5"
      },
      "source": [
        "expert = PPO.load(\"minicurso_rl/EnduroNoFrameskip-v4\")"
      ],
      "execution_count": 11,
      "outputs": []
    },
    {
      "cell_type": "markdown",
      "metadata": {
        "id": "d0550zylM3Jd"
      },
      "source": [
        "## (Sempre) Processar ambiente\n",
        "\n",
        "Para criar o ambiente iremos aplicar alguns processamentos que irão ajudar o agente.\n",
        "\n",
        "Os wrappers nos permitirão adicionar funcionalidade aos ambientes, como modificar observações e recompensas a serem fornecidas ao nosso agente. É comum na aprendizagem por reforço pré-processar as observações para torná-las mais fáceis de aprender. Um exemplo comum é ao usar entradas baseadas em imagem, para garantir que todos os valores estejam entre 0 e 1 ao invés de entre 0 e 255, como é mais comum com imagens RGB.\n",
        "\n",
        "Para mais detalhes dos wrappers utilizados veja em: [Atari Wrappers](https://stable-baselines3.readthedocs.io/en/master/common/atari_wrappers.html) e [Vectorized Environments](https://stable-baselines3.readthedocs.io/en/master/guide/examples.html?highlight=make_vec_env#multiprocessing-unleashing-the-power-of-vectorized-environments)."
      ]
    },
    {
      "cell_type": "code",
      "metadata": {
        "id": "te8GATTMgzyJ"
      },
      "source": [
        "env = make_vec_env(environment_id, wrapper_class=AtariWrapper)  \n",
        "env = VecFrameStack(env, 4) "
      ],
      "execution_count": 12,
      "outputs": []
    },
    {
      "cell_type": "markdown",
      "metadata": {
        "id": "SVOfCTfrrWZd"
      },
      "source": [
        "## (Demora) Vamos ver o quão bem o especialista consegue se sair no ambiente."
      ]
    },
    {
      "cell_type": "code",
      "metadata": {
        "colab": {
          "base_uri": "https://localhost:8080/"
        },
        "id": "_tdWi45r1e4U",
        "outputId": "34611f87-ade1-42fb-b8b9-6856bef8fa14"
      },
      "source": [
        "mean_reward, std_reward = evaluate_policy(expert, env, n_eval_episodes=10)\n",
        "print(f\"Recompensa média = {mean_reward} +/- {std_reward}\")"
      ],
      "execution_count": null,
      "outputs": [
        {
          "name": "stdout",
          "output_type": "stream",
          "text": [
            "Recompensa média = 1117.5 +/- 255.6338201412325\n"
          ]
        }
      ]
    },
    {
      "cell_type": "code",
      "metadata": {
        "id": "vMR4o-MxfhOM"
      },
      "source": [
        "frames = []\n",
        "episodes = 1\n",
        "for episode in range(1, episodes+1):\n",
        "    obs = env.reset()     # Retorna a observação inicial\n",
        "    done = False\n",
        "    score = 0\n",
        "    while not done:\n",
        "        frames.append(env.render(mode='rgb_array'))       # Renderizando o ambiente\n",
        "        action = expert.predict(obs, deterministic=True)  # Seleciona uma ação do agente especialista\n",
        "        n_obs, reward, done, info = env.step(action)      # Executa a ação selecionada\n",
        "        score += reward\n",
        "        obs = n_obs.copy()\n",
        "    print(\"\\n\\nEpisódio: {} Pontuação: {}\".format(episode,score))\n",
        "env.close()\n",
        "\n",
        "display.HTML(display_anim(frames))\n"
      ],
      "execution_count": null,
      "outputs": []
    },
    {
      "cell_type": "markdown",
      "metadata": {
        "id": "93-BHhi5CKI6"
      },
      "source": [
        "## Armazenar informações do especialista\n",
        "\n",
        "Agora, deixamos nosso especialista interagir com o ambiente e armazenar as observações e ações de especialistas resultantes para construir um conjunto de dados."
      ]
    },
    {
      "cell_type": "code",
      "metadata": {
        "id": "W2tziC8Yr2Rd"
      },
      "source": [
        "from tqdm import tqdm"
      ],
      "execution_count": null,
      "outputs": []
    },
    {
      "cell_type": "code",
      "metadata": {
        "id": "uXjvoWS9CANk"
      },
      "source": [
        "# num_interactions = int(3e4)\n",
        "num_interactions = int(1e2)"
      ],
      "execution_count": null,
      "outputs": []
    },
    {
      "cell_type": "code",
      "metadata": {
        "colab": {
          "base_uri": "https://localhost:8080/"
        },
        "id": "QSZCmJ6yCM2y",
        "outputId": "5dd6709e-c7fb-40ad-8eb9-69986b38122d"
      },
      "source": [
        "if isinstance(env.action_space, gym.spaces.Box):\n",
        "    expert_observations = np.empty((num_interactions,) + env.observation_space.shape)\n",
        "    expert_actions = np.empty((num_interactions,) + (env.action_space.shape[0],))\n",
        "else:\n",
        "    expert_observations = np.empty((num_interactions,) + env.observation_space.shape)\n",
        "    expert_actions = np.empty((num_interactions,) + env.action_space.shape)\n",
        "\n",
        "# HW: Interaja  com o ambiente `env` conforme visto anteriormente. Armazene \n",
        "# as observações e as ações do especialista em `expert_observations` e \n",
        "# `expert_actions` respectivamente para construir o dataset.\n",
        "obs = env.reset()     # Retorna a observação inicial\n",
        "done = False\n",
        "score = 0\n",
        "count = 0\n",
        "\n",
        "while not done and count < num_interactions:\n",
        "    expert_observations[count] = obs.copy()\n",
        "    action = expert.predict(obs, deterministic=True)  # Seleciona uma ação do agente especialista\n",
        "    expert_actions[count] = action[0]\n",
        "    n_obs, reward, done, info = env.step(action)      # Executa a ação selecionada\n",
        "    score += reward\n",
        "    obs = n_obs.copy()\n",
        "    count += 1\n",
        "print(\"\\n\\nPontuação: {}\".format(score))\n",
        "env.close()\n",
        "\n",
        "# Salva os dados (observação, ação)\n",
        "np.savez_compressed(\n",
        "    \"minicurso_rl/expert_data\",\n",
        "    expert_actions=expert_actions,\n",
        "    expert_observations=expert_observations,\n",
        ")"
      ],
      "execution_count": null,
      "outputs": [
        {
          "output_type": "stream",
          "name": "stdout",
          "text": [
            "\n",
            "\n",
            "Pontuação: [6.]\n"
          ]
        }
      ]
    },
    {
      "cell_type": "code",
      "metadata": {
        "colab": {
          "base_uri": "https://localhost:8080/"
        },
        "id": "wMVcZyxJVwyd",
        "outputId": "0a42ffc8-179f-46d2-a439-e4b09e77e6b3"
      },
      "source": [
        "# Liberando memória das variáveis que não serao mais utilizadas\n",
        "import gc\n",
        "\n",
        "del expert_actions\n",
        "del expert_observations\n",
        "gc.collect()"
      ],
      "execution_count": null,
      "outputs": [
        {
          "output_type": "execute_result",
          "data": {
            "text/plain": [
              "65"
            ]
          },
          "metadata": {},
          "execution_count": 13
        }
      ]
    },
    {
      "cell_type": "code",
      "metadata": {
        "id": "sOLqZD7ggqkv"
      },
      "source": [
        "try:\n",
        "    expert_observations, expert_actions\n",
        "except NameError:\n",
        "    pass\n",
        "else:\n",
        "  del expert_observations, expert_actions\n",
        "\n",
        "\n",
        "# Carrega os dados salvos\n",
        "data = np.load(\"minicurso_rl/expert_data.npz\")"
      ],
      "execution_count": null,
      "outputs": []
    },
    {
      "cell_type": "markdown",
      "metadata": {
        "id": "iMFddIRoLuCd"
      },
      "source": [
        "## (Sempre) Criando Nossos Datasets\n",
        "\n",
        "- Para usar perfeitamente o PyTorch no processo de treinamento, criamos uma subclasse de `ExpertDataset` do `Dataset` base do Pytorch\n",
        "- Observe que inicializamos o conjunto de dados com as observações e ações de especialistas geradas anteriormente.\n",
        "- Implementamos ainda as [funções mágicas](https://rszalski.github.io/magicmethods/) `__getitem__` e` __len__` do Python para permitir que o manuseio do conjunto de dados do PyTorch acesse linhas arbitrárias no conjunto de dados e informá-lo sobre o comprimento do conjunto de dados.\n",
        "- Para obter mais informações sobre os conjuntos de dados de PyTorch, você pode ler: https://pytorch.org/docs/stable/data.html."
      ]
    },
    {
      "cell_type": "code",
      "metadata": {
        "id": "N33dTfs8MADf"
      },
      "source": [
        "from torch.utils.data.dataset import Dataset, random_split"
      ],
      "execution_count": 13,
      "outputs": []
    },
    {
      "cell_type": "code",
      "metadata": {
        "id": "aLuZoKujMFKB"
      },
      "source": [
        "class ExpertDataSet(Dataset):\n",
        "    def __init__(self, expert_observations, expert_actions):\n",
        "        self.observations = expert_observations\n",
        "        self.actions = expert_actions\n",
        "        \n",
        "    def __getitem__(self, index):\n",
        "        return (self.observations[index], self.actions[index])\n",
        "\n",
        "    def __len__(self):\n",
        "        return len(self.observations)"
      ],
      "execution_count": 14,
      "outputs": []
    },
    {
      "cell_type": "code",
      "metadata": {
        "id": "0k5Id9xDo0Bu"
      },
      "source": [
        "import pyarrow as pa\n",
        "import pyarrow.parquet as pq\n",
        "import pandas as pd\n",
        "\n",
        "class PyArrowDataSet(Dataset):\n",
        "    def __init__(self, expert_observations, expert_actions, batch_size=128, filename=\"dataset.parquet\"):\n",
        "        # self.observations = expert_observations.copy()\n",
        "        # self.actions = expert_actions.copy()\n",
        "        self.batch_size = batch_size\n",
        "        self.df = pd.DataFrame({\n",
        "            \"observations\": expert_observations,\n",
        "            \"actions\": expert_actions,\n",
        "        })\n",
        "        table = pa.Table.from_pandas(self.df)\n",
        "        # pq.write_to_dataset(\n",
        "        #     table,\n",
        "        #     root_path='dataset.parquet',\n",
        "        #     partition_cols=['partone', 'parttwo'],\n",
        "        # )\n",
        "        pq.write_table(table, filename)\n",
        "        \n",
        "    def __getitem__(self, index):\n",
        "        _file = pq.parquet.ParquetFile(self.filename)\n",
        "        batches = _file.iter_batches(batch_size) #batches will be a generator\n",
        "\n",
        "        for batch in batches:\n",
        "            process(batch)\n",
        "\n",
        "        return (self.observations[index], self.actions[index])\n",
        "\n",
        "    def __len__(self):\n",
        "        return len(self.observations)"
      ],
      "execution_count": 15,
      "outputs": []
    },
    {
      "cell_type": "code",
      "metadata": {
        "id": "3FG-WTCL0pH1"
      },
      "source": [
        "# Adapted from https://realpython.com/storing-images-in-python/ (Many thx!)\n",
        "\n",
        "# !pip install h5py > /dev/null 2>&1\n",
        "\n",
        "import h5py\n",
        "from pathlib import Path\n",
        "\n",
        "hdf5_dir = Path(\"data/hdf5/\")\n",
        "hdf5_dir.mkdir(parents=True, exist_ok=True)\n",
        "\n",
        "def store_batch_hdf5(root, images, labels, batch_index):\n",
        "    \"\"\" Stores an array of images to HDF5.\n",
        "        Parameters:\n",
        "        ---------------\n",
        "        images       images array, (N, 84, 84, 3) to be stored\n",
        "        labels       labels array, (N, 1) to be stored\n",
        "    \"\"\"\n",
        "    # Create a new HDF5 file\n",
        "    (hdf5_dir / root).mkdir(parents=True, exist_ok=True)\n",
        "    file = h5py.File(hdf5_dir / Path(root) / f\"batch_{batch_index}.h5\", \"w\")\n",
        "\n",
        "    # Create a dataset in the file\n",
        "    dataset = file.create_dataset(\n",
        "        \"images\", np.shape(images), h5py.h5t.STD_U8BE, data=images\n",
        "    )\n",
        "    meta_set = file.create_dataset(\n",
        "        \"labels\", np.shape(labels), h5py.h5t.STD_U8BE, data=labels\n",
        "    )\n",
        "    file.close()\n",
        "\n",
        "def read_batch_hdf5(root, batch_index):\n",
        "    \"\"\" Reads image from HDF5.\n",
        "        Parameters:\n",
        "        ---------------\n",
        "        batch_index   index of batch to read\n",
        "\n",
        "        Returns:\n",
        "        ----------\n",
        "        images      images array, (N, 84, 84, 3) to be stored\n",
        "        labels      associated meta data, int label (N, 1)\n",
        "    \"\"\"\n",
        "    images, labels = [], []\n",
        "\n",
        "    # Open the HDF5 file\n",
        "    file = h5py.File(hdf5_dir / Path(root) / f\"batch_{batch_index}.h5\", \"r+\")\n",
        "\n",
        "    images = np.array(file[\"/images\"]).astype(\"uint8\")\n",
        "    labels = np.array(file[\"/labels\"]).astype(\"uint8\")\n",
        "\n",
        "    file.close()\n",
        "\n",
        "    return images, labels\n",
        "\n",
        "def generate_batch_indexes(total, batch_size, shuffle=True):\n",
        "    indexes = np.arange(total)\n",
        "    if True:\n",
        "        rng = np.random.default_rng()\n",
        "        rng.shuffle(indexes)\n",
        "\n",
        "\n",
        "    num_batches = indexes.shape[0] // batch_size\n",
        "    if num_batches < 1:\n",
        "        raise ValueError(\"A quantidade de dados precisa ser maior que o tamanho do batch\")\n",
        "    \n",
        "    batches = indexes[:batch_size * num_batches].reshape(-1, batch_size)\n",
        "    for i in range(num_batches):\n",
        "        yield batches[i]"
      ],
      "execution_count": 16,
      "outputs": []
    },
    {
      "cell_type": "code",
      "metadata": {
        "id": "WAd376WSzs8A"
      },
      "source": [
        "class HDF5DataSet(Dataset):\n",
        "    def __init__(self, root, batch_size=128):\n",
        "        self.root = root\n",
        "        self.batch_size = batch_size\n",
        "        self.total_batches = 0\n",
        "\n",
        "    def add_data(self, observations: np.ndarray, actions: np.ndarray, shuffle=True):\n",
        "        assert observations.shape[0] == actions.shape[0] and observations.shape[0]\n",
        "\n",
        "        i = 0\n",
        "        for i, batch in enumerate(generate_batch_indexes(len(observations), self.batch_size, shuffle)):\n",
        "            store_batch_hdf5(self.root,\n",
        "                             np.take(observations, batch, axis=0),\n",
        "                             np.take(actions, batch),\n",
        "                             self.total_batches + i)\n",
        "        self.total_batches += i+1\n",
        "\n",
        "    def __getitem__(self, index):\n",
        "        return read_batch_hdf5(self.root, index)\n",
        "\n",
        "    def __len__(self):\n",
        "        return self.total_batches"
      ],
      "execution_count": 17,
      "outputs": []
    },
    {
      "cell_type": "markdown",
      "metadata": {
        "id": "EGLryFyMMJjF"
      },
      "source": [
        "## Instanciar o Dataset Especialista\n",
        "\n",
        "Agora instanciamos o `ExpertDataSet` e o dividimos em conjuntos de dados de treinamento e teste."
      ]
    },
    {
      "cell_type": "code",
      "metadata": {
        "id": "Ve60YhwzMHfK"
      },
      "source": [
        "expert_dataset = ExpertDataSet(data[\"expert_observations\"], data[\"expert_actions\"])\n",
        "\n",
        "del data\n",
        "\n",
        "import gc\n",
        "gc.collect()\n",
        "\n",
        "train_size = int(0.8 * len(expert_dataset))     # 80% dos dados para treinamento\n",
        "test_size = len(expert_dataset) - train_size    # E o restante dos dados para teste\n",
        "\n",
        "train_expert_dataset, test_expert_dataset = random_split(\n",
        "    expert_dataset, [train_size, test_size]\n",
        ")"
      ],
      "execution_count": null,
      "outputs": []
    },
    {
      "cell_type": "code",
      "metadata": {
        "colab": {
          "base_uri": "https://localhost:8080/"
        },
        "id": "VMqxQ3YZMaXW",
        "outputId": "950b907c-4590-4891-f1e7-5fb1665b02fa"
      },
      "source": [
        "print(\"# test_expert_dataset: \", len(test_expert_dataset))\n",
        "print(\"# train_expert_dataset: \", len(train_expert_dataset))"
      ],
      "execution_count": null,
      "outputs": [
        {
          "output_type": "stream",
          "name": "stdout",
          "text": [
            "# test_expert_dataset:  20\n",
            "# train_expert_dataset:  80\n"
          ]
        }
      ]
    },
    {
      "cell_type": "markdown",
      "metadata": {
        "id": "qzMyjklbCArD"
      },
      "source": [
        "## Treinar o agente estudante"
      ]
    },
    {
      "cell_type": "markdown",
      "metadata": {
        "id": "JP5nBNn1MkvP"
      },
      "source": [
        "Nossos próximos passos:\n",
        "\n",
        "1. Extraímos a rede de políticas de nosso aluno.\n",
        "2. Carregamos o conjunto de dados de especialistas (rotulados) contendo observações de especialistas como entradas e ações de especialistas como alvos.\n",
        "3. Realizamos aprendizagem supervisionada, ou seja, ajustamos os parâmetros da rede de políticas de forma que, dadas as observações de especialistas como entradas para a rede, suas saídas correspondam aos alvos (ações de especialistas).\n",
        "\n",
        "\n",
        "Ao treinar a rede de políticas dessa maneira, o agente aluno correspondente é ensinado a se comportar como o agente especialista que foi usado para criar o conjunto de dados especialista (Behavior Cloning)."
      ]
    },
    {
      "cell_type": "markdown",
      "metadata": {
        "id": "v3nF62p95yEN"
      },
      "source": [
        "## (Sempre) Inicializar Variáveis importantes"
      ]
    },
    {
      "cell_type": "code",
      "metadata": {
        "id": "e5d_C46gu8Yp"
      },
      "source": [
        "import torch.nn as nn\n",
        "import torch.optim as optim\n",
        "import torch.nn.functional as F\n",
        "from torch.distributions.categorical import Categorical\n",
        "from torch.optim.lr_scheduler import StepLR"
      ],
      "execution_count": 18,
      "outputs": []
    },
    {
      "cell_type": "code",
      "metadata": {
        "id": "LG0oRMriPWxX"
      },
      "source": [
        "# Hyper Parameters\n",
        "\n",
        "# batch_size=128\n",
        "batch_size=32\n",
        "epochs=20\n",
        "scheduler_gamma=0.99\n",
        "learning_rate=5e-3\n",
        "log_interval=100\n",
        "no_cuda=False    \n",
        "seed=1\n",
        "test_batch_size=128\n"
      ],
      "execution_count": 19,
      "outputs": []
    },
    {
      "cell_type": "code",
      "metadata": {
        "id": "GO1OG1uTPoNL"
      },
      "source": [
        "use_cuda = not no_cuda and torch.cuda.is_available()\n",
        "torch.manual_seed(seed)\n",
        "device = torch.device(\"cuda\" if use_cuda else \"cpu\")\n",
        "kwargs = {\"num_workers\": 1, \"pin_memory\": True} if use_cuda else {}\n"
      ],
      "execution_count": 20,
      "outputs": []
    },
    {
      "cell_type": "markdown",
      "metadata": {
        "id": "W7mj915v_IJm"
      },
      "source": [
        "## Resumo da rede estudante\n",
        "\n",
        "Agora iremos definir a rede neural que iremos utilizar para o aluno estudante. Aqui criamos um agente de aprendizado por reforço, e extraimos dele a rede da política. Alternativamente você pode construir a sua própria rede neural.\n",
        "\n",
        "Como estamos utilizando imagens como entrada, iremos utilizar uma rede chamada de Rede Neural Convolucional (Convolutional Neural Network - CNN).\n",
        "\n",
        "<br>\n",
        "\n",
        "- https://towardsdatascience.com/pytorch-basics-how-to-train-your-neural-net-intro-to-cnn-26a14c2ea29\n",
        "\n",
        "- https://medium.com/swlh/introduction-to-cnn-image-classification-using-cnn-in-pytorch-11eefae6d83c\n",
        "\n",
        "- https://www.analyticsvidhya.com/blog/2019/10/building-image-classification-models-cnn-pytorch/\n"
      ]
    },
    {
      "cell_type": "code",
      "metadata": {
        "colab": {
          "base_uri": "https://localhost:8080/"
        },
        "id": "39sT4rgBPslk",
        "outputId": "01ff4945-9bec-48dd-f201-a2501e366720"
      },
      "source": [
        "from torchsummary import summary\n",
        "\n",
        "student = PPO('CnnPolicy', env, verbose=1)\n",
        "\n",
        "# Extrair politica inicial\n",
        "model = student.policy.to(device)\n",
        "\n",
        "# Mostra um sumário da rede, mostrando todas as suas camadas \n",
        "summary(model, (4, 84, 84))"
      ],
      "execution_count": null,
      "outputs": [
        {
          "name": "stdout",
          "output_type": "stream",
          "text": [
            "Using cpu device\n",
            "Wrapping the env in a VecTransposeImage.\n",
            "----------------------------------------------------------------\n",
            "        Layer (type)               Output Shape         Param #\n",
            "================================================================\n",
            "            Conv2d-1           [-1, 32, 20, 20]           8,224\n",
            "              ReLU-2           [-1, 32, 20, 20]               0\n",
            "            Conv2d-3             [-1, 64, 9, 9]          32,832\n",
            "              ReLU-4             [-1, 64, 9, 9]               0\n",
            "            Conv2d-5             [-1, 64, 7, 7]          36,928\n",
            "              ReLU-6             [-1, 64, 7, 7]               0\n",
            "           Flatten-7                 [-1, 3136]               0\n",
            "            Linear-8                  [-1, 512]       1,606,144\n",
            "              ReLU-9                  [-1, 512]               0\n",
            "        NatureCNN-10                  [-1, 512]               0\n",
            "     MlpExtractor-11     [[-1, 512], [-1, 512]]               0\n",
            "           Linear-12                    [-1, 1]             513\n",
            "           Linear-13                    [-1, 9]           4,617\n",
            "================================================================\n",
            "Total params: 1,689,258\n",
            "Trainable params: 1,689,258\n",
            "Non-trainable params: 0\n",
            "----------------------------------------------------------------\n",
            "Input size (MB): 0.11\n",
            "Forward/backward pass size (MB): 1.64\n",
            "Params size (MB): 6.44\n",
            "Estimated Total Size (MB): 8.19\n",
            "----------------------------------------------------------------\n"
          ]
        }
      ]
    },
    {
      "cell_type": "markdown",
      "metadata": {
        "id": "36xmtUnNPyy0"
      },
      "source": [
        "## (Sempre) Inicializar funções de Treino\n",
        "\n",
        "Como visto em aula, queremos minimizar a diferença entre a resposta correta e a resposta do modelo. A primeira tarefa é, portanto, definir um critério que mede o erro entre cada elemento na entrada x e no destino y.\n",
        "\n",
        "Aqui precisamos nos atentar em alguns pontos. \n",
        "\n",
        "Box e Discrete são os dois tipos de espaço mais comumente usados para representar os espaços de Observação e Ação em ambientes do Gym. \n",
        "\n",
        "- Box: Uma caixa dimensional, onde cada coordenada fica entre um limite definido por [baixo, alto]\n",
        "- Discrete: O espaço consiste em n pontos distintos, cada um mapeado para um valor inteiro no intervalo [0, n-1]\n",
        "\n",
        "\n",
        "No caso do ambiente Enduro,as ações são discretas, onde será selecionado um valor entre 0 e n-1 para ser aplicado ao ambiente.\n",
        "\n",
        "As saídas da rede é uma lista de probabilidade de selecionar cada uma dessas ações. Iremos executar a ação com a maior probabilidade dada pela rede.\n",
        "\n",
        "<img src='https://drive.google.com/uc?id=1KEBtAKI5kOAC7PfcK3SRQIdE1sQwmAza' width=\"550\" height=\"180\">\n",
        "\n",
        "Como iremos definir o erro da entrada e do destino?\n",
        "\n",
        "O que queremos minimizar é a distância entre duas distribuições de probabilidade - prevista e real.\n",
        "\n",
        "Considere um classificador que prediz se um dado animal é um cão, gato ou cavalo com uma probabilidade associada a cada um. \n",
        "\n",
        "Suponha que a imagem original seja de um cachorro e o modelo preveja 0.2, 0.7, 0.1 como probabilidade para três classes em que as probabilidades verdadeiras se parecem com 1, 0, 0. O que desejamos idealmente é que nossas probabilidades previstas sejam próximas às originais. Portanto, precisamos nos certificar de que estamos minimizando a diferença entre as duas probabilidades.\n",
        "\n",
        "Para isso temos uma loss chamada de Cross-Entropy que nos ajuda a calcular essa diferença. Veja mais em: https://towardsdatascience.com/cross-entropy-loss-function-f38c4ec8643e"
      ]
    },
    {
      "cell_type": "code",
      "metadata": {
        "colab": {
          "base_uri": "https://localhost:8080/"
        },
        "id": "p5pDD8T3WAF-",
        "outputId": "3b9fbdf5-d3c1-4cc0-8e80-8fc85b6d266e"
      },
      "source": [
        "nb_actions = env.action_space.n\n",
        "print(\"O número total de ações possíveis é: \", nb_actions)"
      ],
      "execution_count": 21,
      "outputs": [
        {
          "output_type": "stream",
          "name": "stdout",
          "text": [
            "O número total de ações possíveis é:  9\n"
          ]
        }
      ]
    },
    {
      "cell_type": "code",
      "metadata": {
        "id": "fzYyTCZTPpgp"
      },
      "source": [
        "# HW: Implementar função de Loss\n",
        "\n",
        "# from typing import List\n",
        "\n",
        "# def get_cross_entropy_loss():\n",
        "#   def cross_entropy_loss(model_out, true_out):\n",
        "#     return -np.sum([true_out[i] * np.log(model_out[i]) for i in range(len(true_out))])\n",
        "#   return cross_entropy_loss\n",
        "\n",
        "# criterion = get_cross_entropy_loss()\n",
        "\n",
        "criterion = nn.CrossEntropyLoss()"
      ],
      "execution_count": 22,
      "outputs": []
    },
    {
      "cell_type": "code",
      "metadata": {
        "id": "UIQ8IB4dbOH9"
      },
      "source": [
        "# HW: Implementar função de Acurácia\n",
        "def acc(model_out: torch.Tensor, true_out: torch.Tensor):\n",
        "    # return np.sum(model_out.detach().cpu().numpy() == true_out) / len(true_out)\n",
        "    return torch.sum(torch.argmax(model_out, dim=1).eq(true_out))"
      ],
      "execution_count": 23,
      "outputs": []
    },
    {
      "cell_type": "code",
      "metadata": {
        "id": "OtAIxZyPQ16h"
      },
      "source": [
        "# HW: Implementar função de Treino\n",
        "# ela deve retornar informações de loss e acurácia\n",
        "\n",
        "def train():\n",
        "    _loss = 0.0\n",
        "    _acc = 0.0\n",
        "\n",
        "    model.train()\n",
        "    for data, target in train_loader:\n",
        "        data = data.permute(0, 3, 1, 2)\n",
        "        data, target = data.to(device), target.to(device)\n",
        "\n",
        "        if isinstance(env.action_space, gym.spaces.Box):\n",
        "            # A2C/PPO policy outputs actions, values, log_prob\n",
        "            action, _, _ = model(data)\n",
        "            action_prediction = action.double()\n",
        "        else:\n",
        "            # Retrieve the logits for A2C/PPO when using discrete actions\n",
        "            latent_pi, _, _ = model._get_latent(data)\n",
        "            logits = model.action_net(latent_pi)\n",
        "            action_prediction = logits\n",
        "            target = target.long()\n",
        "\n",
        "\n",
        "        train_loss = criterion(action_prediction, target)\n",
        "        optimizer.zero_grad()\n",
        "        train_loss.backward()\n",
        "        optimizer.step()\n",
        "        \n",
        "        _loss += train_loss.data.cpu().numpy()\n",
        "        _acc += acc(action_prediction, target).data.cpu().numpy()\n",
        "    _loss /= float(len(train_loader.dataset))\n",
        "    _acc /= float(len(train_loader.dataset))\n",
        "\n",
        "    print(f\"Conjunto de Treino: Loss {_loss:.4f} \\tAccuracy {_acc*100:.2f} %\")\n",
        "    return _loss, _acc"
      ],
      "execution_count": 24,
      "outputs": []
    },
    {
      "cell_type": "code",
      "metadata": {
        "id": "YyZmHN9wRMHW"
      },
      "source": [
        "def test():\n",
        "    _loss = 0.0\n",
        "    _acc = 0.0\n",
        "\n",
        "    model.eval()\n",
        "    with torch.no_grad():\n",
        "        for data, target in test_loader:\n",
        "            data = data.permute(0, 3, 1, 2)\n",
        "            data, target = data.to(device), target.to(device)\n",
        "\n",
        "            if isinstance(env.action_space, gym.spaces.Box):\n",
        "                # A2C/PPO policy outputs actions, values, log_prob\n",
        "                action, _, _ = model(data)\n",
        "                action_prediction = action.double()\n",
        "            else:\n",
        "                # Retrieve the logits for A2C/PPO when using discrete actions\n",
        "                latent_pi, _, _ = model._get_latent(data)\n",
        "                logits = model.action_net(latent_pi)\n",
        "                action_prediction = logits\n",
        "                target = target.long()\n",
        "            \n",
        "            test_loss = criterion(action_prediction, target)\n",
        "\n",
        "            _loss += test_loss.data.cpu().numpy()\n",
        "            _acc += acc(action_prediction, target).data.cpu().numpy()\n",
        "\n",
        "    _loss /= float(len(test_loader.dataset))\n",
        "    _acc /= float(len(test_loader.dataset))\n",
        "    print(f\"Conjunto de Teste: Loss {_loss:.4f} \\tAccuracy {_acc*100:.2f} %\")\n",
        "    return _loss, _acc"
      ],
      "execution_count": 25,
      "outputs": []
    },
    {
      "cell_type": "markdown",
      "metadata": {
        "id": "kT6wY7mZR3t9"
      },
      "source": [
        "## (Demora) Avaliar agente antes do Treino\n",
        "\n",
        "Avalie o agente antes do treinamento (seu comportamento deve ser aleatório)"
      ]
    },
    {
      "cell_type": "code",
      "metadata": {
        "colab": {
          "base_uri": "https://localhost:8080/"
        },
        "id": "48urm-5TR2yX",
        "outputId": "6b0abdee-02c4-40e9-c0a4-036ba7895b76"
      },
      "source": [
        "mean_reward, std_reward = evaluate_policy(student, env, n_eval_episodes=10)\n",
        "print(f\"Recompensa média = {mean_reward} +/- {std_reward}\")"
      ],
      "execution_count": null,
      "outputs": [
        {
          "name": "stdout",
          "output_type": "stream",
          "text": [
            "Recompensa média = 0.0 +/- 0.0\n"
          ]
        }
      ]
    },
    {
      "cell_type": "markdown",
      "metadata": {
        "id": "NBmAcuSs6YLa"
      },
      "source": [
        "## Treinar agente"
      ]
    },
    {
      "cell_type": "code",
      "metadata": {
        "id": "1Fg10lrfRTuF"
      },
      "source": [
        "# Aqui, usamos PyTorch `DataLoader` para carregar o` ExpertDataset` criado anteriormente para treinamento e teste\n",
        "train_loader = torch.utils.data.DataLoader(\n",
        "    dataset=train_expert_dataset, batch_size=batch_size, shuffle=True, **kwargs\n",
        ")\n",
        "test_loader = torch.utils.data.DataLoader(\n",
        "    dataset=test_expert_dataset, batch_size=test_batch_size, shuffle=True, **kwargs,\n",
        ")\n",
        "\n",
        "# Defina um Otimizador e uma programação de taxa de aprendizagem (learning rate).\n",
        "optimizer = optim.Adam(model.parameters(), lr=learning_rate)\n",
        "scheduler = StepLR(optimizer, step_size=1, gamma=scheduler_gamma)"
      ],
      "execution_count": null,
      "outputs": []
    },
    {
      "cell_type": "markdown",
      "metadata": {
        "id": "Ve8D386FSZU0"
      },
      "source": [
        "Tendo definido o procedimento de treinamento, podemos agora executar o treinamento!"
      ]
    },
    {
      "cell_type": "code",
      "metadata": {
        "id": "oAiOxXLnSfIG"
      },
      "source": [
        "# Agora estamos finalmente prontos para treinar o modelo de política.\n",
        "train_loss, train_acc = [], []\n",
        "test_loss, test_acc = [], []\n",
        "_learning_rate = []\n",
        "\n",
        "for epoch in range(1, epochs + 1):\n",
        "    _learning_rate.append(scheduler.get_lr()[0])\n",
        "    print(\"learning rate: \", scheduler.get_lr()[0])\n",
        "\n",
        "    _train_loss, _train_acc = train()\n",
        "    _test_loss, _test_acc = test()\n",
        "\n",
        "    train_loss.append(_train_loss)\n",
        "    train_acc.append(_train_acc)\n",
        "    test_loss.append(_test_loss)\n",
        "    test_acc.append(_test_acc)\n",
        "    \n",
        "    scheduler.step()"
      ],
      "execution_count": null,
      "outputs": []
    },
    {
      "cell_type": "markdown",
      "metadata": {
        "id": "2NHKjGHz6eMU"
      },
      "source": [
        "## Visualizar Gráficos"
      ]
    },
    {
      "cell_type": "code",
      "metadata": {
        "id": "nOgkr-fPfwxH"
      },
      "source": [
        "import plotly.graph_objs as go"
      ],
      "execution_count": null,
      "outputs": []
    },
    {
      "cell_type": "code",
      "metadata": {
        "id": "JqF2CXC3efs9"
      },
      "source": [
        "fig = go.Figure([\n",
        "    go.Scatter(\n",
        "        y=train_acc,\n",
        "        x=[ep for ep in range(1, epochs + 1)],\n",
        "        mode='lines',\n",
        "        name=\"Acurácia de Treino\"\n",
        "    ),\n",
        "    go.Scatter(\n",
        "        y=test_acc,\n",
        "        x=[ep for ep in range(1, epochs + 1)],\n",
        "        mode='lines',\n",
        "        name=\"Acurácia de Teste\"\n",
        "    ),\n",
        "])\n",
        "fig.update_layout(\n",
        "    title=\"Acurácia\",\n",
        "    yaxis = dict(\n",
        "        tickformat = \"%\",\n",
        "    ),\n",
        "    xaxis = dict(\n",
        "        title = \"Época\",\n",
        "    )\n",
        ")\n",
        "fig.show()"
      ],
      "execution_count": null,
      "outputs": []
    },
    {
      "cell_type": "code",
      "metadata": {
        "id": "LVjBiRiZfu2A"
      },
      "source": [
        "fig = go.Figure([\n",
        "    go.Scatter(\n",
        "        y=train_loss,\n",
        "        x=[ep for ep in range(1, epochs + 1)],\n",
        "        mode='lines',\n",
        "        name=\"Loss de Treinamento\"\n",
        "    ),\n",
        "    go.Scatter(\n",
        "        y=test_loss,\n",
        "        x=[ep for ep in range(1, epochs + 1)],\n",
        "        mode='lines',\n",
        "        name=\"Loss de Teste\"\n",
        "    ),\n",
        "])\n",
        "fig.update_layout(\n",
        "    title=\"Loss\",\n",
        "    xaxis = dict(title=\"Época\")\n",
        ")\n",
        "fig.show()"
      ],
      "execution_count": null,
      "outputs": []
    },
    {
      "cell_type": "code",
      "metadata": {
        "id": "S_bpFhUeSZvy"
      },
      "source": [
        "fig = go.Figure([\n",
        "    go.Scatter(\n",
        "        y=_learning_rate,\n",
        "        x=[ep for ep in range(1, epochs + 1)],\n",
        "        mode='lines',\n",
        "        name=\"Learning Rate\"\n",
        "    ),\n",
        "])\n",
        "fig.update_layout(\n",
        "    title=\"Learning Rate\",\n",
        "    xaxis = dict(title=\"Época\")\n",
        ")\n",
        "fig.show()"
      ],
      "execution_count": null,
      "outputs": []
    },
    {
      "cell_type": "markdown",
      "metadata": {
        "id": "ivn_FUPTSTA4"
      },
      "source": [
        "Finalmente, vamos testar o quão bem nosso aluno aprendeu a imitar o comportamento do especialista"
      ]
    },
    {
      "cell_type": "code",
      "metadata": {
        "id": "BuCpdvyxeG5A"
      },
      "source": [
        "# Inserir a rede treinada de volta no agente estudante\n",
        "student.policy = model"
      ],
      "execution_count": null,
      "outputs": []
    },
    {
      "cell_type": "code",
      "metadata": {
        "colab": {
          "base_uri": "https://localhost:8080/"
        },
        "id": "jo_D5XuPMjMp",
        "outputId": "fb9c4ae5-6da6-4720-d0c3-173149fdf805"
      },
      "source": [
        "mean_reward, std_reward = evaluate_policy(student, env, n_eval_episodes=10)\n",
        "\n",
        "print(f\"Recompensa média = {mean_reward} +/- {std_reward}\")"
      ],
      "execution_count": null,
      "outputs": [
        {
          "name": "stdout",
          "output_type": "stream",
          "text": [
            "Recompensa média = 4.4 +/- 3.6110940170535577\n"
          ]
        }
      ]
    },
    {
      "cell_type": "code",
      "metadata": {
        "colab": {
          "base_uri": "https://localhost:8080/"
        },
        "id": "lBTDrSJg6m7v",
        "outputId": "3be7a282-d57c-44ab-95f1-d58be35940a2"
      },
      "source": [
        "frames = []\n",
        "episodes = 1\n",
        "for episode in range(1, episodes+1):\n",
        "    obs = env.reset()     \n",
        "    done = False\n",
        "    score = 0\n",
        "    while not done:\n",
        "        frames.append(env.render(mode='rgb_array'))           \n",
        "        action = student.predict(obs, deterministic=True)\n",
        "        n_obs, reward, done, info = env.step(action)       \n",
        "        score += reward\n",
        "        obs = n_obs.copy()\n",
        "    print(\"\\n\\nEpisódio: {} Pontuação: {}\".format(episode,score))\n",
        "env.close()"
      ],
      "execution_count": null,
      "outputs": [
        {
          "name": "stdout",
          "output_type": "stream",
          "text": [
            "\n",
            "\n",
            "Episódio: 1 Pontuação: [6.]\n"
          ]
        }
      ]
    },
    {
      "cell_type": "code",
      "metadata": {
        "id": "7Ip8jLMAK5_3"
      },
      "source": [
        "display.HTML(display_anim(frames))"
      ],
      "execution_count": null,
      "outputs": []
    },
    {
      "cell_type": "markdown",
      "metadata": {
        "id": "ivURRR0sbxgr"
      },
      "source": [
        "# Bônus\n",
        "\n",
        "O algoritimo Dagger é um algoritimo interativo que aproxima as distribuições de trajetórias de alunos e especialistas ao rotular pontos de dados adicionais resultantes da aplicação da política atual.\n",
        "\n",
        "Em sua forma mais simples, o algoritmo procede da seguinte maneira. Na primeira iteração, ele usa a política do especialista para reunir um conjunto de dados de trajetórias $D$ e treinar uma política $\\pi_{2}$ que melhor imita o especialista nessas trajetórias. Então, na iteração $n$, ele usa $\\pi_{n}$ para coletar mais trajetórias e adiciona essas trajetórias ao conjunto de dados $D$. A próxima política $\\pi_{n+1}$ é a que melhor imita o especialista em todo o conjunto de dados $D$.\n",
        "\n",
        "É como se a cada passo, perguntássemos ao especialista sua opinião sobre nossa trajetória atual. Em seguida, reunindo esta opinião (sua resposta aos estados que encontramos) e os conjuntos de dados anteriores de trajetórias,\n",
        "podemos treinar uma nova política mais precisa porque estamos levando em consideração a opinião de mais especialistas.\n",
        "\n",
        "<br>\n",
        "\n",
        "Algoritmo [Dagger](http://proceedings.mlr.press/v15/ross11a/ross11a.pdf):\n",
        "\n",
        "<img src='https://drive.google.com/uc?id=1rMERL80AGmDRR0fKVfq0KjhJjGPt4YKt' width=\"450\" height=\"250\">\n",
        "\n",
        "\n",
        "A tarefa bônus consistirá em implementar o algoritmo Dagger.\n"
      ]
    },
    {
      "cell_type": "markdown",
      "metadata": {
        "id": "fgSLnp1aDV0X"
      },
      "source": [
        "## (Sempre e antes de reiniciar treinos) Defining basic functions and reinitializing (Hyper)parameters and variables"
      ]
    },
    {
      "cell_type": "code",
      "metadata": {
        "id": "Fj5h2g2ZJl8W"
      },
      "source": [
        "episodes_per_train = 2\n",
        "batch_size = 128\n",
        "batch_size_test = 128\n",
        "num_interactions = int(2.5e3)"
      ],
      "execution_count": 157,
      "outputs": []
    },
    {
      "cell_type": "code",
      "metadata": {
        "colab": {
          "base_uri": "https://localhost:8080/"
        },
        "id": "F5Pw6-lIdHuY",
        "outputId": "64e227c7-a7af-4b94-82b2-deca5da1bcb8"
      },
      "source": [
        "dagger_student = PPO('CnnPolicy', env, verbose=1)\n",
        "dagger_model = dagger_student.policy.to(device)\n",
        "expert_model = expert.policy.to(device)"
      ],
      "execution_count": 158,
      "outputs": [
        {
          "output_type": "stream",
          "name": "stdout",
          "text": [
            "Using cuda device\n",
            "Wrapping the env in a VecTransposeImage.\n"
          ]
        }
      ]
    },
    {
      "cell_type": "code",
      "metadata": {
        "id": "MyVgDD7EnfYg"
      },
      "source": [
        "def prepare_obs(obs):\n",
        "  return torch.from_numpy(obs).permute(0, 3, 1, 2).to(device)"
      ],
      "execution_count": 159,
      "outputs": []
    },
    {
      "cell_type": "code",
      "metadata": {
        "id": "7lCX781hW_lp"
      },
      "source": [
        "def get_merged_action(expert_model, dagger_model, beta, obs):\n",
        "    if np.random.random_sample() < beta:\n",
        "        return expert_model(prepare_obs(obs), deterministic=True)\n",
        "    return dagger_model(prepare_obs(obs), deterministic=True)"
      ],
      "execution_count": 160,
      "outputs": []
    },
    {
      "cell_type": "code",
      "metadata": {
        "id": "c-TxAivYWazP"
      },
      "source": [
        "# This is equivalent to run the game one time\n",
        "def get_merged_trajectory(expert_model, dagger_model, size, env, beta):\n",
        "    trajectory = np.empty((num_interactions, ) + env.observation_space.shape)\n",
        "    obs = env.reset()\n",
        "    done = False\n",
        "    count = 0\n",
        "    while not done and count < size:\n",
        "        trajectory[count] = obs.copy()\n",
        "        action, _, _ = get_merged_action(expert_model, dagger_model, beta, obs)\n",
        "        next_obs, reward, done, info = env.step(action)\n",
        "        obs = next_obs.copy()\n",
        "        count += 1\n",
        "    return trajectory\n",
        "\n",
        "def generate_merged_trajectory(expert_model, dagger_model, size, env, beta, batch_size):\n",
        "    trajectory = np.empty((batch_size, ) + env.observation_space.shape)\n",
        "    obs = env.reset()\n",
        "    done = False\n",
        "    count = 0\n",
        "    while not done and count < size:\n",
        "        trajectory[count] = obs.copy()\n",
        "        action, _, _ = get_merged_action(expert_model, dagger_model, beta, obs)\n",
        "        next_obs, reward, done, info = env.step(action)\n",
        "        obs = next_obs.copy()\n",
        "        count += 1\n",
        "        count %= batch_size\n",
        "        if count == batch_size-1:\n",
        "            yield trajectory.copy()"
      ],
      "execution_count": 161,
      "outputs": []
    },
    {
      "cell_type": "code",
      "metadata": {
        "id": "pmMYlcSsWEu6"
      },
      "source": [
        "def get_random_trajectory(model, env, size=num_interactions, sample=0.2):\n",
        "    rng = np.random.default_rng()\n",
        "    trajectory = np.empty((size,) + env.observation_space.shape)\n",
        "    obs = env.reset()\n",
        "    done = False\n",
        "    count = 0\n",
        "    while not done and count < size:\n",
        "        trajectory[count] = obs.copy()\n",
        "        action, _ = model.predict(obs, deterministic = True)\n",
        "        next_obs, reward, done, info = env.step(action)\n",
        "        obs = next_obs.copy()\n",
        "        count += 1\n",
        "    return rng.choice(trajectory, size=int(size*sample), axis=0).copy()\n",
        "\n",
        "def generate_random_trajectory(model, env, size=num_interactions, batch_size=128):\n",
        "    rng = np.random.default_rng()\n",
        "    trajectory = np.empty((batch_size,) + env.observation_space.shape)\n",
        "    obs = env.reset()\n",
        "    done = False\n",
        "    count = 0\n",
        "    while not done and count < size:\n",
        "        trajectory[count] = obs.copy()\n",
        "        action, _ = model.predict(obs, deterministic = True)\n",
        "        next_obs, reward, done, info = env.step(action)\n",
        "        obs = next_obs.copy()\n",
        "        count += 1\n",
        "        count %= batch_size\n",
        "        if count == batch_size-1:\n",
        "            yield rng.choice(trajectory, size=batch_size, axis=0)"
      ],
      "execution_count": 162,
      "outputs": []
    },
    {
      "cell_type": "code",
      "metadata": {
        "id": "3KY5hIkPnyAn"
      },
      "source": [
        "# def get_actions(model, trajectories):\n",
        "#   actions = []\n",
        "#   for t in trajectories:\n",
        "#     a, _, _ = model(prepare_obs(t), deterministic=True)\n",
        "#     actions.append(a)\n",
        "#   return actions\n",
        "\n",
        "def get_actions(model, trajectory, numpy=False):\n",
        "    a, _, _ = model(prepare_obs(trajectory), deterministic=True)\n",
        "    if numpy:\n",
        "        return a.cpu().numpy()\n",
        "    return a"
      ],
      "execution_count": 163,
      "outputs": []
    },
    {
      "cell_type": "code",
      "metadata": {
        "id": "tl9SKTeSXDzp"
      },
      "source": [
        "class SchedulerBeta:\n",
        "  def __init__(self, initial_beta = 1.0, decay_rate = 0.9):\n",
        "      self.initial_beta = initial_beta\n",
        "      self.decay_rate = decay_rate\n",
        "      self.reset()\n",
        "\n",
        "  def get_beta(self):\n",
        "    return self.beta\n",
        "\n",
        "  def reset(self):\n",
        "      self.beta = self.initial_beta\n",
        "      self.i = 0\n",
        "      return self.beta\n",
        "\n",
        "  def step(self):\n",
        "      self.beta *= self.decay_rate\n",
        "      self.i += 1\n",
        "      return self.beta"
      ],
      "execution_count": 164,
      "outputs": []
    },
    {
      "cell_type": "code",
      "metadata": {
        "id": "tM0ZZkmLFiRO"
      },
      "source": [
        "train_loss, train_acc = [], []\n",
        "test_loss, test_acc = [], []\n",
        "_learning_rate = []\n",
        "\n",
        "optimizer = optim.Adam(dagger_model.parameters(), lr=learning_rate)\n",
        "scheduler = StepLR(optimizer, step_size=1, gamma=scheduler_gamma)"
      ],
      "execution_count": 165,
      "outputs": []
    },
    {
      "cell_type": "code",
      "metadata": {
        "id": "xr0fsCXX5vyf"
      },
      "source": [
        "import os\n",
        "min_val_loss = np.inf\n",
        "MODEL_PATH = \"model/\"\n",
        "if not os.path.exists(MODEL_PATH):\n",
        "  %mkdir $MODEL_PATH\n",
        "DAGGER_MODEL_NAME = \"dagger.model\"\n",
        "\n",
        "def check_save(model, val_loss, name=DAGGER_MODEL_NAME):\n",
        "    global min_val_loss\n",
        "    if val_loss < min_val_loss:\n",
        "        min_val_loss = val_loss.copy()\n",
        "        path = MODEL_PATH + name\n",
        "        model.save(path)\n",
        "        print(f\"Salvando melhor modelo: {name}\\tValidation loss: {val_loss}\")"
      ],
      "execution_count": 166,
      "outputs": []
    },
    {
      "cell_type": "code",
      "metadata": {
        "id": "YCe68OZIIZk-"
      },
      "source": [
        "def run_episode(pi, loader, train=True):\n",
        "    _loss = 0.0\n",
        "    _acc = 0.0\n",
        "    name = 'treino' if train else 'teste'\n",
        "\n",
        "    for data, target in loader:\n",
        "        # Adaptation needed to run model with HDF5 Loadings\n",
        "        # To reajust shapes to correct values\n",
        "        # data = data.reshape(-1, 84, 84, 4)\n",
        "        data = data.reshape((-1,) + env.observation_space.shape)\n",
        "        target = target.flatten()\n",
        "\n",
        "        data = data.permute(0, 3, 1, 2)\n",
        "        data, target = data.to(device), target.to(device)\n",
        "\n",
        "        if isinstance(env.action_space, gym.spaces.Box):\n",
        "            # A2C/PPO policy outputs actions, values, log_prob\n",
        "            action, _, _ = pi(data)\n",
        "            action_prediction = action.double()\n",
        "        else:\n",
        "            # Retrieve the logits for A2C/PPO when using discrete actions\n",
        "            latent_pi, _, _ = pi._get_latent(data)\n",
        "            logits = pi.action_net(latent_pi)\n",
        "            action_prediction = logits\n",
        "            target = target.long()\n",
        "\n",
        "        loss = criterion(action_prediction, target)\n",
        "        if train:\n",
        "            optimizer.zero_grad()\n",
        "            loss.backward()\n",
        "            optimizer.step()\n",
        "        \n",
        "        _loss += loss.data.cpu().numpy()\n",
        "        _acc += acc(action_prediction, target).data.cpu().numpy()\n",
        "    _loss /= float(len(loader.dataset) * batch_size)\n",
        "    _acc /= float(len(loader.dataset) * batch_size)\n",
        "\n",
        "    print(f\"Resultado do {name}: Loss {_loss:.4f} \\tAccuracy {_acc*100:.2f} %\")\n",
        "\n",
        "    if not train:\n",
        "        check_save(pi, _loss)\n",
        "        \n",
        "    return _loss, _acc"
      ],
      "execution_count": 167,
      "outputs": []
    },
    {
      "cell_type": "code",
      "metadata": {
        "id": "_SC9Ik332YrM"
      },
      "source": [
        "def train_dagger(dagger_model, train_loader, test_loader):\n",
        "    for episode in range(1, episodes_per_train + 1):\n",
        "        _learning_rate.append(scheduler.get_last_lr()[0])\n",
        "        print(\"learning rate: \", scheduler.get_last_lr()[0])\n",
        "\n",
        "        _train_loss, _train_acc = run_episode(dagger_model, train_loader, train=True)\n",
        "        with torch.no_grad():\n",
        "          _test_loss, _test_acc = run_episode(dagger_model, test_loader, train=False)\n",
        "\n",
        "        train_loss.append(_train_loss)\n",
        "        train_acc.append(_train_acc)\n",
        "        test_loss.append(_test_loss)\n",
        "        test_acc.append(_test_acc)\n",
        "        \n",
        "        scheduler.step()"
      ],
      "execution_count": 168,
      "outputs": []
    },
    {
      "cell_type": "markdown",
      "metadata": {
        "id": "NzFdRgl2Dco-"
      },
      "source": [
        "## Basic Dagger implementation"
      ]
    },
    {
      "cell_type": "code",
      "metadata": {
        "colab": {
          "base_uri": "https://localhost:8080/"
        },
        "id": "Ms4i6RF6Zr3l",
        "outputId": "ef53284b-2d63-4142-9c04-8899c90b7c3b"
      },
      "source": [
        "N = 8\n",
        "num_interactions = int(2.5e3)\n",
        "\n",
        "beta_scheduler = SchedulerBeta()\n",
        "\n",
        "trajectory, actions = None, None\n",
        "\n",
        "test_trajectory = get_random_trajectory(expert_model, env, size=num_interactions, sample=0.2)\n",
        "test_actions = get_actions(expert_model, test_trajectory)\n",
        "test_dataset = ExpertDataSet(test_trajectory, test_actions)\n",
        "test_loader = torch.utils.data.DataLoader(\n",
        "    dataset=test_dataset, batch_size=batch_size_test, shuffle=True\n",
        ")\n",
        "del test_trajectory, test_actions, test_dataset\n",
        "\n",
        "# Running the algorithm\n",
        "D_obs = np.array([]).reshape((0, ) + env.observation_space.shape)\n",
        "D_actions = np.array([])\n",
        "for i in range(1, N+1):\n",
        "    print(f\"Episode: {i}\")\n",
        "    print(f\"beta: {beta_scheduler.get_beta()}\")\n",
        "    trajectory = get_merged_trajectory(expert_model,\n",
        "                                       dagger_model,\n",
        "                                       num_interactions,\n",
        "                                       env,\n",
        "                                       beta_scheduler.get_beta())\n",
        "    actions = get_actions(expert_model, trajectory)\n",
        "    D_obs = np.vstack([D_obs, trajectory])\n",
        "    D_actions = np.append(D_actions, actions.cpu().numpy())\n",
        "\n",
        "    train_dataset = ExpertDataSet(D_obs, D_actions)\n",
        "    train_loader = torch.utils.data.DataLoader(\n",
        "        dataset=train_dataset, batch_size=batch_size, shuffle=True, **kwargs\n",
        "    )\n",
        "    del train_dataset, actions\n",
        "\n",
        "    train_dagger(dagger_model, train_loader, test_loader)\n",
        "    beta_scheduler.step()\n",
        "    print(\"\\n\")\n",
        "del D_obs, D_actions\n",
        "env.close()"
      ],
      "execution_count": null,
      "outputs": [
        {
          "name": "stdout",
          "output_type": "stream",
          "text": [
            "Episode: 1\n",
            "beta: 1.0\n",
            "learning rate:  0.005\n",
            "Resultado do treino: Loss 0.0132 \tAccuracy 39.40 %\n",
            "Resultado do teste: Loss 0.0133 \tAccuracy 40.80 %\n",
            "Salvando melhor modelo: dagger.model\tValidation loss: 0.013333458185195922\n",
            "learning rate:  0.00495\n",
            "Resultado do treino: Loss 0.0090 \tAccuracy 54.60 %\n",
            "Resultado do teste: Loss 0.0126 \tAccuracy 38.60 %\n",
            "Salvando melhor modelo: dagger.model\tValidation loss: 0.01260660982131958\n",
            "\n",
            "\n",
            "Episode: 2\n",
            "beta: 0.9\n",
            "learning rate:  0.0049005\n",
            "Resultado do treino: Loss 0.0084 \tAccuracy 61.04 %\n",
            "Resultado do teste: Loss 0.0113 \tAccuracy 47.20 %\n",
            "Salvando melhor modelo: dagger.model\tValidation loss: 0.011295869588851929\n",
            "learning rate:  0.004851495\n",
            "Resultado do treino: Loss 0.0072 \tAccuracy 65.72 %\n",
            "Resultado do teste: Loss 0.0118 \tAccuracy 47.60 %\n",
            "\n",
            "\n",
            "Episode: 3\n",
            "beta: 0.81\n",
            "learning rate:  0.00480298005\n",
            "Resultado do treino: Loss 0.0074 \tAccuracy 63.23 %\n",
            "Resultado do teste: Loss 0.0145 \tAccuracy 42.60 %\n",
            "learning rate:  0.0047549502495\n",
            "Resultado do treino: Loss 0.0064 \tAccuracy 67.65 %\n",
            "Resultado do teste: Loss 0.0144 \tAccuracy 43.60 %\n",
            "\n",
            "\n",
            "Episode: 4\n",
            "beta: 0.7290000000000001\n",
            "learning rate:  0.004707400747005\n",
            "Resultado do treino: Loss 0.0067 \tAccuracy 66.58 %\n",
            "Resultado do teste: Loss 0.0104 \tAccuracy 52.00 %\n",
            "Salvando melhor modelo: dagger.model\tValidation loss: 0.01041418433189392\n",
            "learning rate:  0.00466032673953495\n",
            "Resultado do treino: Loss 0.0060 \tAccuracy 69.76 %\n",
            "Resultado do teste: Loss 0.0105 \tAccuracy 56.00 %\n",
            "\n",
            "\n",
            "Episode: 5\n",
            "beta: 0.6561000000000001\n",
            "learning rate:  0.0046137234721396\n",
            "Resultado do treino: Loss 0.0051 \tAccuracy 74.62 %\n",
            "Resultado do teste: Loss 0.0077 \tAccuracy 63.40 %\n",
            "Salvando melhor modelo: dagger.model\tValidation loss: 0.007662334680557251\n",
            "learning rate:  0.004567586237418204\n",
            "Resultado do treino: Loss 0.0046 \tAccuracy 76.95 %\n",
            "Resultado do teste: Loss 0.0079 \tAccuracy 65.20 %\n",
            "\n",
            "\n",
            "Episode: 6\n",
            "beta: 0.5904900000000002\n",
            "learning rate:  0.004521910375044022\n",
            "Resultado do treino: Loss 0.0045 \tAccuracy 77.63 %\n",
            "Resultado do teste: Loss 0.0084 \tAccuracy 67.00 %\n",
            "learning rate:  0.004476691271293582\n",
            "Resultado do treino: Loss 0.0039 \tAccuracy 80.88 %\n",
            "Resultado do teste: Loss 0.0109 \tAccuracy 63.40 %\n",
            "\n",
            "\n",
            "Episode: 7\n",
            "beta: 0.5314410000000002\n",
            "learning rate:  0.004431924358580646\n",
            "Resultado do treino: Loss 0.0040 \tAccuracy 80.61 %\n",
            "Resultado do teste: Loss 0.0078 \tAccuracy 65.20 %\n",
            "learning rate:  0.00438760511499484\n",
            "Resultado do treino: Loss 0.0034 \tAccuracy 82.86 %\n",
            "Resultado do teste: Loss 0.0074 \tAccuracy 68.00 %\n",
            "Salvando melhor modelo: dagger.model\tValidation loss: 0.0074467998743057255\n",
            "\n",
            "\n",
            "Episode: 8\n",
            "beta: 0.47829690000000014\n",
            "learning rate:  0.004343729063844891\n",
            "Resultado do treino: Loss 0.0040 \tAccuracy 81.12 %\n",
            "Resultado do teste: Loss 0.0070 \tAccuracy 69.00 %\n",
            "Salvando melhor modelo: dagger.model\tValidation loss: 0.0070361922979354855\n",
            "learning rate:  0.004300291773206443\n",
            "Resultado do treino: Loss 0.0034 \tAccuracy 83.62 %\n",
            "Resultado do teste: Loss 0.0082 \tAccuracy 65.60 %\n",
            "\n",
            "\n"
          ]
        }
      ]
    },
    {
      "cell_type": "markdown",
      "metadata": {
        "id": "hcspmJAw8Rt5"
      },
      "source": [
        "## Dagger with K-fold Cross Validation (not implemented yet)"
      ]
    },
    {
      "cell_type": "code",
      "metadata": {
        "id": "GE6NiNCvPjOR"
      },
      "source": [
        "from sklearn.model_selection import KFold\n",
        "\n",
        "N = 8\n",
        "num_interactions = int(2.5e3)\n",
        "beta_scheduler = SchedulerBeta()\n",
        "\n",
        "trajectory, actions = None, None\n",
        "\n",
        "# test_trajectory = get_random_trajectory(expert_model, env, size=num_interactions, sample=0.2)\n",
        "# test_actions = get_actions(expert_model, test_trajectory)\n",
        "# test_dataset = ExpertDataSet(test_trajectory, test_actions)\n",
        "# test_loader = torch.utils.data.DataLoader(\n",
        "#     dataset=test_dataset, batch_size=batch_size_test, shuffle=True\n",
        "# )\n",
        "# del test_trajectory, test_actions, test_dataset\n",
        "\n",
        "# Running the algorithm\n",
        "D_obs = np.array([]).reshape((0, ) + env.observation_space.shape)\n",
        "D_actions = np.array([])\n",
        "for i in range(1, N+1):\n",
        "    print(f\"Episode: {i}\")\n",
        "    print(f\"beta: {beta_scheduler.get_beta()}\")\n",
        "    trajectory = get_merged_trajectory(expert_model,\n",
        "                                       dagger_model,\n",
        "                                       num_interactions,\n",
        "                                       env,\n",
        "                                       beta_scheduler.get_beta())\n",
        "    actions = get_actions(expert_model, trajectory)\n",
        "    D_obs = np.vstack([D_obs, trajectory])\n",
        "    D_actions = np.append(D_actions, actions.cpu().numpy())\n",
        "\n",
        "    train_dataset = ExpertDataSet(D_obs, D_actions)\n",
        "    train_loader = torch.utils.data.DataLoader(\n",
        "        dataset=train_dataset, batch_size=batch_size, shuffle=True, **kwargs\n",
        "    )\n",
        "    del train_dataset, actions\n",
        "\n",
        "    train_dagger(dagger_model, train_loader, test_loader)\n",
        "    beta_scheduler.step()\n",
        "    print(\"\\n\")\n",
        "del D_obs, D_actions\n",
        "env.close()\n"
      ],
      "execution_count": null,
      "outputs": []
    },
    {
      "cell_type": "markdown",
      "metadata": {
        "id": "gGOBRP3j8W0f"
      },
      "source": [
        "## Dagger with large Dataset"
      ]
    },
    {
      "cell_type": "code",
      "metadata": {
        "colab": {
          "base_uri": "https://localhost:8080/"
        },
        "id": "axY0SQerECTl",
        "outputId": "5799da2b-68b2-4197-ea72-be1b832c23c0"
      },
      "source": [
        "N = 8\n",
        "num_interactions = int(1e6)\n",
        "episodes_per_train = 2\n",
        "\n",
        "beta_scheduler = SchedulerBeta()\n",
        "\n",
        "train_dataset = HDF5DataSet('train', batch_size)\n",
        "test_dataset = HDF5DataSet('test', batch_size_test)\n",
        "\n",
        "for test_trajectory in generate_random_trajectory(expert_model,\n",
        "                                                  env,\n",
        "                                                  size=num_interactions,\n",
        "                                                  batch_size=batch_size_test):\n",
        "    test_actions = get_actions(expert_model, test_trajectory, numpy=True)\n",
        "    test_dataset.add_data(test_trajectory, test_actions, shuffle=False)\n",
        "test_loader = torch.utils.data.DataLoader(\n",
        "    dataset=test_dataset, batch_size=1, shuffle=False\n",
        ")\n",
        "\n",
        "# Running the algorithm\n",
        "D_obs = np.array([]).reshape((0, ) + env.observation_space.shape)\n",
        "D_actions = np.array([])\n",
        "for i in range(1, N+1):\n",
        "    print(f\"Episode: {i}\")\n",
        "    print(f\"beta: {beta_scheduler.get_beta()}\")\n",
        "\n",
        "    for trajectory in generate_merged_trajectory(expert_model,\n",
        "                                                 dagger_model,\n",
        "                                                 num_interactions,\n",
        "                                                 env,\n",
        "                                                 beta_scheduler.get_beta(),\n",
        "                                                 batch_size):\n",
        "        actions = get_actions(expert_model, trajectory, numpy=True)\n",
        "        train_dataset.add_data(trajectory, actions, shuffle=True)\n",
        "    \n",
        "    train_loader = torch.utils.data.DataLoader(\n",
        "        dataset=train_dataset, batch_size=1, shuffle=True, **kwargs\n",
        "    )\n",
        "\n",
        "    train_dagger(dagger_model, train_loader, test_loader)\n",
        "    beta_scheduler.step()\n",
        "    print(\"\\n\")\n",
        "del D_obs, D_actions\n",
        "env.close()"
      ],
      "execution_count": 169,
      "outputs": [
        {
          "output_type": "stream",
          "name": "stdout",
          "text": [
            "Episode: 1\n",
            "beta: 1.0\n",
            "learning rate:  0.005\n",
            "Resultado do treino: Loss 0.0201 \tAccuracy 31.30 %\n",
            "Resultado do teste: Loss 0.0138 \tAccuracy 33.33 %\n",
            "Salvando melhor modelo: dagger.model\tValidation loss: 0.013806017490282244\n",
            "learning rate:  0.00495\n",
            "Resultado do treino: Loss 0.0134 \tAccuracy 34.41 %\n",
            "Resultado do teste: Loss 0.0131 \tAccuracy 39.97 %\n",
            "Salvando melhor modelo: dagger.model\tValidation loss: 0.013148703747630223\n",
            "\n",
            "\n",
            "Episode: 2\n",
            "beta: 0.9\n",
            "learning rate:  0.0049005\n",
            "Resultado do treino: Loss 0.0135 \tAccuracy 38.46 %\n",
            "Resultado do teste: Loss 0.0128 \tAccuracy 40.93 %\n",
            "Salvando melhor modelo: dagger.model\tValidation loss: 0.012755598913342995\n",
            "learning rate:  0.004851495\n",
            "Resultado do treino: Loss 0.0125 \tAccuracy 40.83 %\n",
            "Resultado do teste: Loss 0.0123 \tAccuracy 42.84 %\n",
            "Salvando melhor modelo: dagger.model\tValidation loss: 0.012324861687327986\n",
            "\n",
            "\n",
            "Episode: 3\n",
            "beta: 0.81\n",
            "learning rate:  0.00480298005\n",
            "Resultado do treino: Loss 0.0116 \tAccuracy 43.07 %\n",
            "Resultado do teste: Loss 0.0130 \tAccuracy 41.38 %\n",
            "learning rate:  0.0047549502495\n",
            "Resultado do treino: Loss 0.0106 \tAccuracy 46.57 %\n",
            "Resultado do teste: Loss 0.0107 \tAccuracy 47.95 %\n",
            "Salvando melhor modelo: dagger.model\tValidation loss: 0.010694949899275698\n",
            "\n",
            "\n",
            "Episode: 4\n",
            "beta: 0.7290000000000001\n",
            "learning rate:  0.004707400747005\n",
            "Resultado do treino: Loss 0.0100 \tAccuracy 48.50 %\n",
            "Resultado do teste: Loss 0.0113 \tAccuracy 37.23 %\n",
            "learning rate:  0.00466032673953495\n",
            "Resultado do treino: Loss 0.0100 \tAccuracy 49.23 %\n",
            "Resultado do teste: Loss 0.0102 \tAccuracy 50.36 %\n",
            "Salvando melhor modelo: dagger.model\tValidation loss: 0.010205863906559412\n",
            "\n",
            "\n",
            "Episode: 5\n",
            "beta: 0.6561000000000001\n",
            "learning rate:  0.0046137234721396\n",
            "Resultado do treino: Loss 0.0089 \tAccuracy 52.42 %\n",
            "Resultado do teste: Loss 0.0097 \tAccuracy 52.75 %\n",
            "Salvando melhor modelo: dagger.model\tValidation loss: 0.009727642566794167\n",
            "learning rate:  0.004567586237418204\n",
            "Resultado do treino: Loss 0.0084 \tAccuracy 55.80 %\n",
            "Resultado do teste: Loss 0.0088 \tAccuracy 54.71 %\n",
            "Salvando melhor modelo: dagger.model\tValidation loss: 0.008824548191204325\n",
            "\n",
            "\n",
            "Episode: 6\n",
            "beta: 0.5904900000000002\n",
            "learning rate:  0.004521910375044022\n",
            "Resultado do treino: Loss 0.0083 \tAccuracy 55.06 %\n",
            "Resultado do teste: Loss 0.0090 \tAccuracy 54.95 %\n",
            "learning rate:  0.004476691271293582\n",
            "Resultado do treino: Loss 0.0079 \tAccuracy 57.69 %\n",
            "Resultado do teste: Loss 0.0093 \tAccuracy 51.86 %\n",
            "\n",
            "\n",
            "Episode: 7\n",
            "beta: 0.5314410000000002\n",
            "learning rate:  0.004431924358580646\n",
            "Resultado do treino: Loss 0.0083 \tAccuracy 55.77 %\n",
            "Resultado do teste: Loss 0.0087 \tAccuracy 56.35 %\n",
            "Salvando melhor modelo: dagger.model\tValidation loss: 0.008719587910851723\n",
            "learning rate:  0.00438760511499484\n",
            "Resultado do treino: Loss 0.0075 \tAccuracy 59.63 %\n",
            "Resultado do teste: Loss 0.0084 \tAccuracy 58.60 %\n",
            "Salvando melhor modelo: dagger.model\tValidation loss: 0.008440435587450433\n",
            "\n",
            "\n",
            "Episode: 8\n",
            "beta: 0.47829690000000014\n",
            "learning rate:  0.004343729063844891\n",
            "Resultado do treino: Loss 0.0073 \tAccuracy 60.98 %\n",
            "Resultado do teste: Loss 0.0090 \tAccuracy 57.24 %\n",
            "learning rate:  0.004300291773206443\n",
            "Resultado do treino: Loss 0.0069 \tAccuracy 62.96 %\n",
            "Resultado do teste: Loss 0.0086 \tAccuracy 56.03 %\n",
            "\n",
            "\n"
          ]
        }
      ]
    },
    {
      "cell_type": "markdown",
      "metadata": {
        "id": "3MqYXBvy8dMg"
      },
      "source": [
        "## Loading Model"
      ]
    },
    {
      "cell_type": "code",
      "metadata": {
        "colab": {
          "base_uri": "https://localhost:8080/"
        },
        "id": "Cwi30HQaaZ9r",
        "outputId": "2b51f792-01a5-48df-bb82-d2ffb01eba57"
      },
      "source": [
        "dagger_model.load(MODEL_PATH + DAGGER_MODEL_NAME)"
      ],
      "execution_count": 170,
      "outputs": [
        {
          "output_type": "execute_result",
          "data": {
            "text/plain": [
              "ActorCriticCnnPolicy(\n",
              "  (features_extractor): NatureCNN(\n",
              "    (cnn): Sequential(\n",
              "      (0): Conv2d(4, 32, kernel_size=(8, 8), stride=(4, 4))\n",
              "      (1): ReLU()\n",
              "      (2): Conv2d(32, 64, kernel_size=(4, 4), stride=(2, 2))\n",
              "      (3): ReLU()\n",
              "      (4): Conv2d(64, 64, kernel_size=(3, 3), stride=(1, 1))\n",
              "      (5): ReLU()\n",
              "      (6): Flatten(start_dim=1, end_dim=-1)\n",
              "    )\n",
              "    (linear): Sequential(\n",
              "      (0): Linear(in_features=3136, out_features=512, bias=True)\n",
              "      (1): ReLU()\n",
              "    )\n",
              "  )\n",
              "  (mlp_extractor): MlpExtractor(\n",
              "    (shared_net): Sequential()\n",
              "    (policy_net): Sequential()\n",
              "    (value_net): Sequential()\n",
              "  )\n",
              "  (action_net): Linear(in_features=512, out_features=9, bias=True)\n",
              "  (value_net): Linear(in_features=512, out_features=1, bias=True)\n",
              ")"
            ]
          },
          "metadata": {},
          "execution_count": 170
        }
      ]
    },
    {
      "cell_type": "markdown",
      "metadata": {
        "id": "3aeNE6EQ6wDc"
      },
      "source": [
        "## Gerar Gráficos"
      ]
    },
    {
      "cell_type": "code",
      "metadata": {
        "id": "QngORS_5sVHw"
      },
      "source": [
        "import plotly.graph_objs as go"
      ],
      "execution_count": 171,
      "outputs": []
    },
    {
      "cell_type": "code",
      "metadata": {
        "colab": {
          "base_uri": "https://localhost:8080/",
          "height": 542
        },
        "id": "DDKSwUPWMJmi",
        "outputId": "094d4056-e2ff-4f5e-bd0a-7595eb1586cb"
      },
      "source": [
        "fig = go.Figure([\n",
        "    go.Scatter(\n",
        "        y=train_acc,\n",
        "        x=[ep for ep in range(1, len(train_acc) + 1)],\n",
        "        mode='lines',\n",
        "        name=\"Acurácia de Treino\"\n",
        "    ),\n",
        "    go.Scatter(\n",
        "        y=test_acc,\n",
        "        x=[ep for ep in range(1, len(test_acc) + 1)],\n",
        "        mode='lines',\n",
        "        name=\"Acurácia de Teste\"\n",
        "    ),\n",
        "])\n",
        "fig.update_layout(\n",
        "    title=\"Acurácia\",\n",
        "    yaxis = dict(\n",
        "        tickformat = \"%\",\n",
        "    ),\n",
        "    xaxis = dict(\n",
        "        title = \"Época\",\n",
        "    )\n",
        ")\n",
        "fig.show()"
      ],
      "execution_count": 172,
      "outputs": [
        {
          "output_type": "display_data",
          "data": {
            "text/html": [
              "<html>\n",
              "<head><meta charset=\"utf-8\" /></head>\n",
              "<body>\n",
              "    <div>\n",
              "            <script src=\"https://cdnjs.cloudflare.com/ajax/libs/mathjax/2.7.5/MathJax.js?config=TeX-AMS-MML_SVG\"></script><script type=\"text/javascript\">if (window.MathJax) {MathJax.Hub.Config({SVG: {font: \"STIX-Web\"}});}</script>\n",
              "                <script type=\"text/javascript\">window.PlotlyConfig = {MathJaxConfig: 'local'};</script>\n",
              "        <script src=\"https://cdn.plot.ly/plotly-latest.min.js\"></script>    \n",
              "            <div id=\"9a1f088f-da91-41d2-a243-0055e8563256\" class=\"plotly-graph-div\" style=\"height:525px; width:100%;\"></div>\n",
              "            <script type=\"text/javascript\">\n",
              "                \n",
              "                    window.PLOTLYENV=window.PLOTLYENV || {};\n",
              "                    \n",
              "                if (document.getElementById(\"9a1f088f-da91-41d2-a243-0055e8563256\")) {\n",
              "                    Plotly.newPlot(\n",
              "                        '9a1f088f-da91-41d2-a243-0055e8563256',\n",
              "                        [{\"mode\": \"lines\", \"name\": \"Acur\\u00e1cia de Treino\", \"type\": \"scatter\", \"x\": [1, 2, 3, 4, 5, 6, 7, 8, 9, 10, 11, 12, 13, 14, 15, 16], \"y\": [0.31303094660194175, 0.3440533980582524, 0.3846354166666667, 0.40828993055555557, 0.43070211038961037, 0.46570616883116883, 0.485015869140625, 0.492340087890625, 0.5241603647686833, 0.5580237989323843, 0.5506280637254902, 0.5768739787581699, 0.5576614425981873, 0.5963226963746223, 0.6097919592696629, 0.6295865519662921]}, {\"mode\": \"lines\", \"name\": \"Acur\\u00e1cia de Teste\", \"type\": \"scatter\", \"x\": [1, 2, 3, 4, 5, 6, 7, 8, 9, 10, 11, 12, 13, 14, 15, 16], \"y\": [0.333299512987013, 0.3996550324675325, 0.40929383116883117, 0.4283685064935065, 0.41375811688311687, 0.47950487012987014, 0.37226055194805197, 0.5035511363636364, 0.5274959415584416, 0.547077922077922, 0.549512987012987, 0.5185673701298701, 0.5635146103896104, 0.586038961038961, 0.5724431818181818, 0.5602678571428571]}],\n",
              "                        {\"template\": {\"data\": {\"bar\": [{\"error_x\": {\"color\": \"#2a3f5f\"}, \"error_y\": {\"color\": \"#2a3f5f\"}, \"marker\": {\"line\": {\"color\": \"#E5ECF6\", \"width\": 0.5}}, \"type\": \"bar\"}], \"barpolar\": [{\"marker\": {\"line\": {\"color\": \"#E5ECF6\", \"width\": 0.5}}, \"type\": \"barpolar\"}], \"carpet\": [{\"aaxis\": {\"endlinecolor\": \"#2a3f5f\", \"gridcolor\": \"white\", \"linecolor\": \"white\", \"minorgridcolor\": \"white\", \"startlinecolor\": \"#2a3f5f\"}, \"baxis\": {\"endlinecolor\": \"#2a3f5f\", \"gridcolor\": \"white\", \"linecolor\": \"white\", \"minorgridcolor\": \"white\", \"startlinecolor\": \"#2a3f5f\"}, \"type\": \"carpet\"}], \"choropleth\": [{\"colorbar\": {\"outlinewidth\": 0, \"ticks\": \"\"}, \"type\": \"choropleth\"}], \"contour\": [{\"colorbar\": {\"outlinewidth\": 0, \"ticks\": \"\"}, \"colorscale\": [[0.0, \"#0d0887\"], [0.1111111111111111, \"#46039f\"], [0.2222222222222222, \"#7201a8\"], [0.3333333333333333, \"#9c179e\"], [0.4444444444444444, \"#bd3786\"], [0.5555555555555556, \"#d8576b\"], [0.6666666666666666, \"#ed7953\"], [0.7777777777777778, \"#fb9f3a\"], [0.8888888888888888, \"#fdca26\"], [1.0, \"#f0f921\"]], \"type\": \"contour\"}], \"contourcarpet\": [{\"colorbar\": {\"outlinewidth\": 0, \"ticks\": \"\"}, \"type\": \"contourcarpet\"}], \"heatmap\": [{\"colorbar\": {\"outlinewidth\": 0, \"ticks\": \"\"}, \"colorscale\": [[0.0, \"#0d0887\"], [0.1111111111111111, \"#46039f\"], [0.2222222222222222, \"#7201a8\"], [0.3333333333333333, \"#9c179e\"], [0.4444444444444444, \"#bd3786\"], [0.5555555555555556, \"#d8576b\"], [0.6666666666666666, \"#ed7953\"], [0.7777777777777778, \"#fb9f3a\"], [0.8888888888888888, \"#fdca26\"], [1.0, \"#f0f921\"]], \"type\": \"heatmap\"}], \"heatmapgl\": [{\"colorbar\": {\"outlinewidth\": 0, \"ticks\": \"\"}, \"colorscale\": [[0.0, \"#0d0887\"], [0.1111111111111111, \"#46039f\"], [0.2222222222222222, \"#7201a8\"], [0.3333333333333333, \"#9c179e\"], [0.4444444444444444, \"#bd3786\"], [0.5555555555555556, \"#d8576b\"], [0.6666666666666666, \"#ed7953\"], [0.7777777777777778, \"#fb9f3a\"], [0.8888888888888888, \"#fdca26\"], [1.0, \"#f0f921\"]], \"type\": \"heatmapgl\"}], \"histogram\": [{\"marker\": {\"colorbar\": {\"outlinewidth\": 0, \"ticks\": \"\"}}, \"type\": \"histogram\"}], \"histogram2d\": [{\"colorbar\": {\"outlinewidth\": 0, \"ticks\": \"\"}, \"colorscale\": [[0.0, \"#0d0887\"], [0.1111111111111111, \"#46039f\"], [0.2222222222222222, \"#7201a8\"], [0.3333333333333333, \"#9c179e\"], [0.4444444444444444, \"#bd3786\"], [0.5555555555555556, \"#d8576b\"], [0.6666666666666666, \"#ed7953\"], [0.7777777777777778, \"#fb9f3a\"], [0.8888888888888888, \"#fdca26\"], [1.0, \"#f0f921\"]], \"type\": \"histogram2d\"}], \"histogram2dcontour\": [{\"colorbar\": {\"outlinewidth\": 0, \"ticks\": \"\"}, \"colorscale\": [[0.0, \"#0d0887\"], [0.1111111111111111, \"#46039f\"], [0.2222222222222222, \"#7201a8\"], [0.3333333333333333, \"#9c179e\"], [0.4444444444444444, \"#bd3786\"], [0.5555555555555556, \"#d8576b\"], [0.6666666666666666, \"#ed7953\"], [0.7777777777777778, \"#fb9f3a\"], [0.8888888888888888, \"#fdca26\"], [1.0, \"#f0f921\"]], \"type\": \"histogram2dcontour\"}], \"mesh3d\": [{\"colorbar\": {\"outlinewidth\": 0, \"ticks\": \"\"}, \"type\": \"mesh3d\"}], \"parcoords\": [{\"line\": {\"colorbar\": {\"outlinewidth\": 0, \"ticks\": \"\"}}, \"type\": \"parcoords\"}], \"pie\": [{\"automargin\": true, \"type\": \"pie\"}], \"scatter\": [{\"marker\": {\"colorbar\": {\"outlinewidth\": 0, \"ticks\": \"\"}}, \"type\": \"scatter\"}], \"scatter3d\": [{\"line\": {\"colorbar\": {\"outlinewidth\": 0, \"ticks\": \"\"}}, \"marker\": {\"colorbar\": {\"outlinewidth\": 0, \"ticks\": \"\"}}, \"type\": \"scatter3d\"}], \"scattercarpet\": [{\"marker\": {\"colorbar\": {\"outlinewidth\": 0, \"ticks\": \"\"}}, \"type\": \"scattercarpet\"}], \"scattergeo\": [{\"marker\": {\"colorbar\": {\"outlinewidth\": 0, \"ticks\": \"\"}}, \"type\": \"scattergeo\"}], \"scattergl\": [{\"marker\": {\"colorbar\": {\"outlinewidth\": 0, \"ticks\": \"\"}}, \"type\": \"scattergl\"}], \"scattermapbox\": [{\"marker\": {\"colorbar\": {\"outlinewidth\": 0, \"ticks\": \"\"}}, \"type\": \"scattermapbox\"}], \"scatterpolar\": [{\"marker\": {\"colorbar\": {\"outlinewidth\": 0, \"ticks\": \"\"}}, \"type\": \"scatterpolar\"}], \"scatterpolargl\": [{\"marker\": {\"colorbar\": {\"outlinewidth\": 0, \"ticks\": \"\"}}, \"type\": \"scatterpolargl\"}], \"scatterternary\": [{\"marker\": {\"colorbar\": {\"outlinewidth\": 0, \"ticks\": \"\"}}, \"type\": \"scatterternary\"}], \"surface\": [{\"colorbar\": {\"outlinewidth\": 0, \"ticks\": \"\"}, \"colorscale\": [[0.0, \"#0d0887\"], [0.1111111111111111, \"#46039f\"], [0.2222222222222222, \"#7201a8\"], [0.3333333333333333, \"#9c179e\"], [0.4444444444444444, \"#bd3786\"], [0.5555555555555556, \"#d8576b\"], [0.6666666666666666, \"#ed7953\"], [0.7777777777777778, \"#fb9f3a\"], [0.8888888888888888, \"#fdca26\"], [1.0, \"#f0f921\"]], \"type\": \"surface\"}], \"table\": [{\"cells\": {\"fill\": {\"color\": \"#EBF0F8\"}, \"line\": {\"color\": \"white\"}}, \"header\": {\"fill\": {\"color\": \"#C8D4E3\"}, \"line\": {\"color\": \"white\"}}, \"type\": \"table\"}]}, \"layout\": {\"annotationdefaults\": {\"arrowcolor\": \"#2a3f5f\", \"arrowhead\": 0, \"arrowwidth\": 1}, \"coloraxis\": {\"colorbar\": {\"outlinewidth\": 0, \"ticks\": \"\"}}, \"colorscale\": {\"diverging\": [[0, \"#8e0152\"], [0.1, \"#c51b7d\"], [0.2, \"#de77ae\"], [0.3, \"#f1b6da\"], [0.4, \"#fde0ef\"], [0.5, \"#f7f7f7\"], [0.6, \"#e6f5d0\"], [0.7, \"#b8e186\"], [0.8, \"#7fbc41\"], [0.9, \"#4d9221\"], [1, \"#276419\"]], \"sequential\": [[0.0, \"#0d0887\"], [0.1111111111111111, \"#46039f\"], [0.2222222222222222, \"#7201a8\"], [0.3333333333333333, \"#9c179e\"], [0.4444444444444444, \"#bd3786\"], [0.5555555555555556, \"#d8576b\"], [0.6666666666666666, \"#ed7953\"], [0.7777777777777778, \"#fb9f3a\"], [0.8888888888888888, \"#fdca26\"], [1.0, \"#f0f921\"]], \"sequentialminus\": [[0.0, \"#0d0887\"], [0.1111111111111111, \"#46039f\"], [0.2222222222222222, \"#7201a8\"], [0.3333333333333333, \"#9c179e\"], [0.4444444444444444, \"#bd3786\"], [0.5555555555555556, \"#d8576b\"], [0.6666666666666666, \"#ed7953\"], [0.7777777777777778, \"#fb9f3a\"], [0.8888888888888888, \"#fdca26\"], [1.0, \"#f0f921\"]]}, \"colorway\": [\"#636efa\", \"#EF553B\", \"#00cc96\", \"#ab63fa\", \"#FFA15A\", \"#19d3f3\", \"#FF6692\", \"#B6E880\", \"#FF97FF\", \"#FECB52\"], \"font\": {\"color\": \"#2a3f5f\"}, \"geo\": {\"bgcolor\": \"white\", \"lakecolor\": \"white\", \"landcolor\": \"#E5ECF6\", \"showlakes\": true, \"showland\": true, \"subunitcolor\": \"white\"}, \"hoverlabel\": {\"align\": \"left\"}, \"hovermode\": \"closest\", \"mapbox\": {\"style\": \"light\"}, \"paper_bgcolor\": \"white\", \"plot_bgcolor\": \"#E5ECF6\", \"polar\": {\"angularaxis\": {\"gridcolor\": \"white\", \"linecolor\": \"white\", \"ticks\": \"\"}, \"bgcolor\": \"#E5ECF6\", \"radialaxis\": {\"gridcolor\": \"white\", \"linecolor\": \"white\", \"ticks\": \"\"}}, \"scene\": {\"xaxis\": {\"backgroundcolor\": \"#E5ECF6\", \"gridcolor\": \"white\", \"gridwidth\": 2, \"linecolor\": \"white\", \"showbackground\": true, \"ticks\": \"\", \"zerolinecolor\": \"white\"}, \"yaxis\": {\"backgroundcolor\": \"#E5ECF6\", \"gridcolor\": \"white\", \"gridwidth\": 2, \"linecolor\": \"white\", \"showbackground\": true, \"ticks\": \"\", \"zerolinecolor\": \"white\"}, \"zaxis\": {\"backgroundcolor\": \"#E5ECF6\", \"gridcolor\": \"white\", \"gridwidth\": 2, \"linecolor\": \"white\", \"showbackground\": true, \"ticks\": \"\", \"zerolinecolor\": \"white\"}}, \"shapedefaults\": {\"line\": {\"color\": \"#2a3f5f\"}}, \"ternary\": {\"aaxis\": {\"gridcolor\": \"white\", \"linecolor\": \"white\", \"ticks\": \"\"}, \"baxis\": {\"gridcolor\": \"white\", \"linecolor\": \"white\", \"ticks\": \"\"}, \"bgcolor\": \"#E5ECF6\", \"caxis\": {\"gridcolor\": \"white\", \"linecolor\": \"white\", \"ticks\": \"\"}}, \"title\": {\"x\": 0.05}, \"xaxis\": {\"automargin\": true, \"gridcolor\": \"white\", \"linecolor\": \"white\", \"ticks\": \"\", \"title\": {\"standoff\": 15}, \"zerolinecolor\": \"white\", \"zerolinewidth\": 2}, \"yaxis\": {\"automargin\": true, \"gridcolor\": \"white\", \"linecolor\": \"white\", \"ticks\": \"\", \"title\": {\"standoff\": 15}, \"zerolinecolor\": \"white\", \"zerolinewidth\": 2}}}, \"title\": {\"text\": \"Acur\\u00e1cia\"}, \"xaxis\": {\"title\": {\"text\": \"\\u00c9poca\"}}, \"yaxis\": {\"tickformat\": \"%\"}},\n",
              "                        {\"responsive\": true}\n",
              "                    ).then(function(){\n",
              "                            \n",
              "var gd = document.getElementById('9a1f088f-da91-41d2-a243-0055e8563256');\n",
              "var x = new MutationObserver(function (mutations, observer) {{\n",
              "        var display = window.getComputedStyle(gd).display;\n",
              "        if (!display || display === 'none') {{\n",
              "            console.log([gd, 'removed!']);\n",
              "            Plotly.purge(gd);\n",
              "            observer.disconnect();\n",
              "        }}\n",
              "}});\n",
              "\n",
              "// Listen for the removal of the full notebook cells\n",
              "var notebookContainer = gd.closest('#notebook-container');\n",
              "if (notebookContainer) {{\n",
              "    x.observe(notebookContainer, {childList: true});\n",
              "}}\n",
              "\n",
              "// Listen for the clearing of the current output cell\n",
              "var outputEl = gd.closest('.output');\n",
              "if (outputEl) {{\n",
              "    x.observe(outputEl, {childList: true});\n",
              "}}\n",
              "\n",
              "                        })\n",
              "                };\n",
              "                \n",
              "            </script>\n",
              "        </div>\n",
              "</body>\n",
              "</html>"
            ]
          },
          "metadata": {}
        }
      ]
    },
    {
      "cell_type": "code",
      "metadata": {
        "colab": {
          "base_uri": "https://localhost:8080/",
          "height": 542
        },
        "id": "D232291OMKg_",
        "outputId": "4784da32-9506-4ead-aefa-6832e713257e"
      },
      "source": [
        "fig = go.Figure([\n",
        "    go.Scatter(\n",
        "        y=train_loss,\n",
        "        x=[ep for ep in range(1, len(train_loss) + 1)],\n",
        "        mode='lines',\n",
        "        name=\"Loss de Treinamento\"\n",
        "    ),\n",
        "    go.Scatter(\n",
        "        y=test_loss,\n",
        "        x=[ep for ep in range(1, len(test_loss) + 1)],\n",
        "        mode='lines',\n",
        "        name=\"Loss de Teste\"\n",
        "    ),\n",
        "])\n",
        "fig.update_layout(\n",
        "    title=\"Loss\",\n",
        "    xaxis = dict(title=\"Época\")\n",
        ")\n",
        "fig.show()"
      ],
      "execution_count": 173,
      "outputs": [
        {
          "output_type": "display_data",
          "data": {
            "text/html": [
              "<html>\n",
              "<head><meta charset=\"utf-8\" /></head>\n",
              "<body>\n",
              "    <div>\n",
              "            <script src=\"https://cdnjs.cloudflare.com/ajax/libs/mathjax/2.7.5/MathJax.js?config=TeX-AMS-MML_SVG\"></script><script type=\"text/javascript\">if (window.MathJax) {MathJax.Hub.Config({SVG: {font: \"STIX-Web\"}});}</script>\n",
              "                <script type=\"text/javascript\">window.PlotlyConfig = {MathJaxConfig: 'local'};</script>\n",
              "        <script src=\"https://cdn.plot.ly/plotly-latest.min.js\"></script>    \n",
              "            <div id=\"88f5c2c0-e95d-47be-a3d2-821e1a9a481d\" class=\"plotly-graph-div\" style=\"height:525px; width:100%;\"></div>\n",
              "            <script type=\"text/javascript\">\n",
              "                \n",
              "                    window.PLOTLYENV=window.PLOTLYENV || {};\n",
              "                    \n",
              "                if (document.getElementById(\"88f5c2c0-e95d-47be-a3d2-821e1a9a481d\")) {\n",
              "                    Plotly.newPlot(\n",
              "                        '88f5c2c0-e95d-47be-a3d2-821e1a9a481d',\n",
              "                        [{\"mode\": \"lines\", \"name\": \"Loss de Treinamento\", \"type\": \"scatter\", \"x\": [1, 2, 3, 4, 5, 6, 7, 8, 9, 10, 11, 12, 13, 14, 15, 16], \"y\": [0.020122221880846707, 0.013427308866482138, 0.013480498159594529, 0.012470458245353042, 0.011584124061942922, 0.01058380309732717, 0.010020072425308887, 0.010010329919152048, 0.008860372718186139, 0.00840366123522057, 0.008320619454757308, 0.00794403820532736, 0.00834114094514954, 0.007460656946807559, 0.0072638519760913085, 0.0069379909118141014]}, {\"mode\": \"lines\", \"name\": \"Loss de Teste\", \"type\": \"scatter\", \"x\": [1, 2, 3, 4, 5, 6, 7, 8, 9, 10, 11, 12, 13, 14, 15, 16], \"y\": [0.013806017490282244, 0.013148703747630223, 0.012755598913342995, 0.012324861687327986, 0.013046901454127423, 0.010694949899275698, 0.011251445693562541, 0.010205863906559412, 0.009727642566794167, 0.008824548191204325, 0.008952965134414511, 0.009281583646428131, 0.008719587910851723, 0.008440435587450433, 0.009035353842130923, 0.008641918426369025]}],\n",
              "                        {\"template\": {\"data\": {\"bar\": [{\"error_x\": {\"color\": \"#2a3f5f\"}, \"error_y\": {\"color\": \"#2a3f5f\"}, \"marker\": {\"line\": {\"color\": \"#E5ECF6\", \"width\": 0.5}}, \"type\": \"bar\"}], \"barpolar\": [{\"marker\": {\"line\": {\"color\": \"#E5ECF6\", \"width\": 0.5}}, \"type\": \"barpolar\"}], \"carpet\": [{\"aaxis\": {\"endlinecolor\": \"#2a3f5f\", \"gridcolor\": \"white\", \"linecolor\": \"white\", \"minorgridcolor\": \"white\", \"startlinecolor\": \"#2a3f5f\"}, \"baxis\": {\"endlinecolor\": \"#2a3f5f\", \"gridcolor\": \"white\", \"linecolor\": \"white\", \"minorgridcolor\": \"white\", \"startlinecolor\": \"#2a3f5f\"}, \"type\": \"carpet\"}], \"choropleth\": [{\"colorbar\": {\"outlinewidth\": 0, \"ticks\": \"\"}, \"type\": \"choropleth\"}], \"contour\": [{\"colorbar\": {\"outlinewidth\": 0, \"ticks\": \"\"}, \"colorscale\": [[0.0, \"#0d0887\"], [0.1111111111111111, \"#46039f\"], [0.2222222222222222, \"#7201a8\"], [0.3333333333333333, \"#9c179e\"], [0.4444444444444444, \"#bd3786\"], [0.5555555555555556, \"#d8576b\"], [0.6666666666666666, \"#ed7953\"], [0.7777777777777778, \"#fb9f3a\"], [0.8888888888888888, \"#fdca26\"], [1.0, \"#f0f921\"]], \"type\": \"contour\"}], \"contourcarpet\": [{\"colorbar\": {\"outlinewidth\": 0, \"ticks\": \"\"}, \"type\": \"contourcarpet\"}], \"heatmap\": [{\"colorbar\": {\"outlinewidth\": 0, \"ticks\": \"\"}, \"colorscale\": [[0.0, \"#0d0887\"], [0.1111111111111111, \"#46039f\"], [0.2222222222222222, \"#7201a8\"], [0.3333333333333333, \"#9c179e\"], [0.4444444444444444, \"#bd3786\"], [0.5555555555555556, \"#d8576b\"], [0.6666666666666666, \"#ed7953\"], [0.7777777777777778, \"#fb9f3a\"], [0.8888888888888888, \"#fdca26\"], [1.0, \"#f0f921\"]], \"type\": \"heatmap\"}], \"heatmapgl\": [{\"colorbar\": {\"outlinewidth\": 0, \"ticks\": \"\"}, \"colorscale\": [[0.0, \"#0d0887\"], [0.1111111111111111, \"#46039f\"], [0.2222222222222222, \"#7201a8\"], [0.3333333333333333, \"#9c179e\"], [0.4444444444444444, \"#bd3786\"], [0.5555555555555556, \"#d8576b\"], [0.6666666666666666, \"#ed7953\"], [0.7777777777777778, \"#fb9f3a\"], [0.8888888888888888, \"#fdca26\"], [1.0, \"#f0f921\"]], \"type\": \"heatmapgl\"}], \"histogram\": [{\"marker\": {\"colorbar\": {\"outlinewidth\": 0, \"ticks\": \"\"}}, \"type\": \"histogram\"}], \"histogram2d\": [{\"colorbar\": {\"outlinewidth\": 0, \"ticks\": \"\"}, \"colorscale\": [[0.0, \"#0d0887\"], [0.1111111111111111, \"#46039f\"], [0.2222222222222222, \"#7201a8\"], [0.3333333333333333, \"#9c179e\"], [0.4444444444444444, \"#bd3786\"], [0.5555555555555556, \"#d8576b\"], [0.6666666666666666, \"#ed7953\"], [0.7777777777777778, \"#fb9f3a\"], [0.8888888888888888, \"#fdca26\"], [1.0, \"#f0f921\"]], \"type\": \"histogram2d\"}], \"histogram2dcontour\": [{\"colorbar\": {\"outlinewidth\": 0, \"ticks\": \"\"}, \"colorscale\": [[0.0, \"#0d0887\"], [0.1111111111111111, \"#46039f\"], [0.2222222222222222, \"#7201a8\"], [0.3333333333333333, \"#9c179e\"], [0.4444444444444444, \"#bd3786\"], [0.5555555555555556, \"#d8576b\"], [0.6666666666666666, \"#ed7953\"], [0.7777777777777778, \"#fb9f3a\"], [0.8888888888888888, \"#fdca26\"], [1.0, \"#f0f921\"]], \"type\": \"histogram2dcontour\"}], \"mesh3d\": [{\"colorbar\": {\"outlinewidth\": 0, \"ticks\": \"\"}, \"type\": \"mesh3d\"}], \"parcoords\": [{\"line\": {\"colorbar\": {\"outlinewidth\": 0, \"ticks\": \"\"}}, \"type\": \"parcoords\"}], \"pie\": [{\"automargin\": true, \"type\": \"pie\"}], \"scatter\": [{\"marker\": {\"colorbar\": {\"outlinewidth\": 0, \"ticks\": \"\"}}, \"type\": \"scatter\"}], \"scatter3d\": [{\"line\": {\"colorbar\": {\"outlinewidth\": 0, \"ticks\": \"\"}}, \"marker\": {\"colorbar\": {\"outlinewidth\": 0, \"ticks\": \"\"}}, \"type\": \"scatter3d\"}], \"scattercarpet\": [{\"marker\": {\"colorbar\": {\"outlinewidth\": 0, \"ticks\": \"\"}}, \"type\": \"scattercarpet\"}], \"scattergeo\": [{\"marker\": {\"colorbar\": {\"outlinewidth\": 0, \"ticks\": \"\"}}, \"type\": \"scattergeo\"}], \"scattergl\": [{\"marker\": {\"colorbar\": {\"outlinewidth\": 0, \"ticks\": \"\"}}, \"type\": \"scattergl\"}], \"scattermapbox\": [{\"marker\": {\"colorbar\": {\"outlinewidth\": 0, \"ticks\": \"\"}}, \"type\": \"scattermapbox\"}], \"scatterpolar\": [{\"marker\": {\"colorbar\": {\"outlinewidth\": 0, \"ticks\": \"\"}}, \"type\": \"scatterpolar\"}], \"scatterpolargl\": [{\"marker\": {\"colorbar\": {\"outlinewidth\": 0, \"ticks\": \"\"}}, \"type\": \"scatterpolargl\"}], \"scatterternary\": [{\"marker\": {\"colorbar\": {\"outlinewidth\": 0, \"ticks\": \"\"}}, \"type\": \"scatterternary\"}], \"surface\": [{\"colorbar\": {\"outlinewidth\": 0, \"ticks\": \"\"}, \"colorscale\": [[0.0, \"#0d0887\"], [0.1111111111111111, \"#46039f\"], [0.2222222222222222, \"#7201a8\"], [0.3333333333333333, \"#9c179e\"], [0.4444444444444444, \"#bd3786\"], [0.5555555555555556, \"#d8576b\"], [0.6666666666666666, \"#ed7953\"], [0.7777777777777778, \"#fb9f3a\"], [0.8888888888888888, \"#fdca26\"], [1.0, \"#f0f921\"]], \"type\": \"surface\"}], \"table\": [{\"cells\": {\"fill\": {\"color\": \"#EBF0F8\"}, \"line\": {\"color\": \"white\"}}, \"header\": {\"fill\": {\"color\": \"#C8D4E3\"}, \"line\": {\"color\": \"white\"}}, \"type\": \"table\"}]}, \"layout\": {\"annotationdefaults\": {\"arrowcolor\": \"#2a3f5f\", \"arrowhead\": 0, \"arrowwidth\": 1}, \"coloraxis\": {\"colorbar\": {\"outlinewidth\": 0, \"ticks\": \"\"}}, \"colorscale\": {\"diverging\": [[0, \"#8e0152\"], [0.1, \"#c51b7d\"], [0.2, \"#de77ae\"], [0.3, \"#f1b6da\"], [0.4, \"#fde0ef\"], [0.5, \"#f7f7f7\"], [0.6, \"#e6f5d0\"], [0.7, \"#b8e186\"], [0.8, \"#7fbc41\"], [0.9, \"#4d9221\"], [1, \"#276419\"]], \"sequential\": [[0.0, \"#0d0887\"], [0.1111111111111111, \"#46039f\"], [0.2222222222222222, \"#7201a8\"], [0.3333333333333333, \"#9c179e\"], [0.4444444444444444, \"#bd3786\"], [0.5555555555555556, \"#d8576b\"], [0.6666666666666666, \"#ed7953\"], [0.7777777777777778, \"#fb9f3a\"], [0.8888888888888888, \"#fdca26\"], [1.0, \"#f0f921\"]], \"sequentialminus\": [[0.0, \"#0d0887\"], [0.1111111111111111, \"#46039f\"], [0.2222222222222222, \"#7201a8\"], [0.3333333333333333, \"#9c179e\"], [0.4444444444444444, \"#bd3786\"], [0.5555555555555556, \"#d8576b\"], [0.6666666666666666, \"#ed7953\"], [0.7777777777777778, \"#fb9f3a\"], [0.8888888888888888, \"#fdca26\"], [1.0, \"#f0f921\"]]}, \"colorway\": [\"#636efa\", \"#EF553B\", \"#00cc96\", \"#ab63fa\", \"#FFA15A\", \"#19d3f3\", \"#FF6692\", \"#B6E880\", \"#FF97FF\", \"#FECB52\"], \"font\": {\"color\": \"#2a3f5f\"}, \"geo\": {\"bgcolor\": \"white\", \"lakecolor\": \"white\", \"landcolor\": \"#E5ECF6\", \"showlakes\": true, \"showland\": true, \"subunitcolor\": \"white\"}, \"hoverlabel\": {\"align\": \"left\"}, \"hovermode\": \"closest\", \"mapbox\": {\"style\": \"light\"}, \"paper_bgcolor\": \"white\", \"plot_bgcolor\": \"#E5ECF6\", \"polar\": {\"angularaxis\": {\"gridcolor\": \"white\", \"linecolor\": \"white\", \"ticks\": \"\"}, \"bgcolor\": \"#E5ECF6\", \"radialaxis\": {\"gridcolor\": \"white\", \"linecolor\": \"white\", \"ticks\": \"\"}}, \"scene\": {\"xaxis\": {\"backgroundcolor\": \"#E5ECF6\", \"gridcolor\": \"white\", \"gridwidth\": 2, \"linecolor\": \"white\", \"showbackground\": true, \"ticks\": \"\", \"zerolinecolor\": \"white\"}, \"yaxis\": {\"backgroundcolor\": \"#E5ECF6\", \"gridcolor\": \"white\", \"gridwidth\": 2, \"linecolor\": \"white\", \"showbackground\": true, \"ticks\": \"\", \"zerolinecolor\": \"white\"}, \"zaxis\": {\"backgroundcolor\": \"#E5ECF6\", \"gridcolor\": \"white\", \"gridwidth\": 2, \"linecolor\": \"white\", \"showbackground\": true, \"ticks\": \"\", \"zerolinecolor\": \"white\"}}, \"shapedefaults\": {\"line\": {\"color\": \"#2a3f5f\"}}, \"ternary\": {\"aaxis\": {\"gridcolor\": \"white\", \"linecolor\": \"white\", \"ticks\": \"\"}, \"baxis\": {\"gridcolor\": \"white\", \"linecolor\": \"white\", \"ticks\": \"\"}, \"bgcolor\": \"#E5ECF6\", \"caxis\": {\"gridcolor\": \"white\", \"linecolor\": \"white\", \"ticks\": \"\"}}, \"title\": {\"x\": 0.05}, \"xaxis\": {\"automargin\": true, \"gridcolor\": \"white\", \"linecolor\": \"white\", \"ticks\": \"\", \"title\": {\"standoff\": 15}, \"zerolinecolor\": \"white\", \"zerolinewidth\": 2}, \"yaxis\": {\"automargin\": true, \"gridcolor\": \"white\", \"linecolor\": \"white\", \"ticks\": \"\", \"title\": {\"standoff\": 15}, \"zerolinecolor\": \"white\", \"zerolinewidth\": 2}}}, \"title\": {\"text\": \"Loss\"}, \"xaxis\": {\"title\": {\"text\": \"\\u00c9poca\"}}},\n",
              "                        {\"responsive\": true}\n",
              "                    ).then(function(){\n",
              "                            \n",
              "var gd = document.getElementById('88f5c2c0-e95d-47be-a3d2-821e1a9a481d');\n",
              "var x = new MutationObserver(function (mutations, observer) {{\n",
              "        var display = window.getComputedStyle(gd).display;\n",
              "        if (!display || display === 'none') {{\n",
              "            console.log([gd, 'removed!']);\n",
              "            Plotly.purge(gd);\n",
              "            observer.disconnect();\n",
              "        }}\n",
              "}});\n",
              "\n",
              "// Listen for the removal of the full notebook cells\n",
              "var notebookContainer = gd.closest('#notebook-container');\n",
              "if (notebookContainer) {{\n",
              "    x.observe(notebookContainer, {childList: true});\n",
              "}}\n",
              "\n",
              "// Listen for the clearing of the current output cell\n",
              "var outputEl = gd.closest('.output');\n",
              "if (outputEl) {{\n",
              "    x.observe(outputEl, {childList: true});\n",
              "}}\n",
              "\n",
              "                        })\n",
              "                };\n",
              "                \n",
              "            </script>\n",
              "        </div>\n",
              "</body>\n",
              "</html>"
            ]
          },
          "metadata": {}
        }
      ]
    },
    {
      "cell_type": "code",
      "metadata": {
        "colab": {
          "base_uri": "https://localhost:8080/",
          "height": 542
        },
        "id": "PP7bYpLeMKkI",
        "outputId": "7e8ce1ba-9ba9-4af7-d572-9c5a5023a794"
      },
      "source": [
        "fig = go.Figure([\n",
        "    go.Scatter(\n",
        "        y=_learning_rate,\n",
        "        x=[ep for ep in range(1, epochs + 1)],\n",
        "        mode='lines',\n",
        "        name=\"Learning Rate\"\n",
        "    ),\n",
        "])\n",
        "fig.update_layout(\n",
        "    title=\"Learning Rate\",\n",
        "    xaxis = dict(title=\"Época\")\n",
        ")\n",
        "fig.show()"
      ],
      "execution_count": 174,
      "outputs": [
        {
          "output_type": "display_data",
          "data": {
            "text/html": [
              "<html>\n",
              "<head><meta charset=\"utf-8\" /></head>\n",
              "<body>\n",
              "    <div>\n",
              "            <script src=\"https://cdnjs.cloudflare.com/ajax/libs/mathjax/2.7.5/MathJax.js?config=TeX-AMS-MML_SVG\"></script><script type=\"text/javascript\">if (window.MathJax) {MathJax.Hub.Config({SVG: {font: \"STIX-Web\"}});}</script>\n",
              "                <script type=\"text/javascript\">window.PlotlyConfig = {MathJaxConfig: 'local'};</script>\n",
              "        <script src=\"https://cdn.plot.ly/plotly-latest.min.js\"></script>    \n",
              "            <div id=\"b3a8fb00-ddda-4b4a-8a31-ac317ba15fff\" class=\"plotly-graph-div\" style=\"height:525px; width:100%;\"></div>\n",
              "            <script type=\"text/javascript\">\n",
              "                \n",
              "                    window.PLOTLYENV=window.PLOTLYENV || {};\n",
              "                    \n",
              "                if (document.getElementById(\"b3a8fb00-ddda-4b4a-8a31-ac317ba15fff\")) {\n",
              "                    Plotly.newPlot(\n",
              "                        'b3a8fb00-ddda-4b4a-8a31-ac317ba15fff',\n",
              "                        [{\"mode\": \"lines\", \"name\": \"Learning Rate\", \"type\": \"scatter\", \"x\": [1, 2, 3, 4, 5, 6, 7, 8, 9, 10, 11, 12, 13, 14, 15, 16, 17, 18, 19, 20], \"y\": [0.005, 0.00495, 0.0049005, 0.004851495, 0.00480298005, 0.0047549502495, 0.004707400747005, 0.00466032673953495, 0.0046137234721396, 0.004567586237418204, 0.004521910375044022, 0.004476691271293582, 0.004431924358580646, 0.00438760511499484, 0.004343729063844891, 0.004300291773206443]}],\n",
              "                        {\"template\": {\"data\": {\"bar\": [{\"error_x\": {\"color\": \"#2a3f5f\"}, \"error_y\": {\"color\": \"#2a3f5f\"}, \"marker\": {\"line\": {\"color\": \"#E5ECF6\", \"width\": 0.5}}, \"type\": \"bar\"}], \"barpolar\": [{\"marker\": {\"line\": {\"color\": \"#E5ECF6\", \"width\": 0.5}}, \"type\": \"barpolar\"}], \"carpet\": [{\"aaxis\": {\"endlinecolor\": \"#2a3f5f\", \"gridcolor\": \"white\", \"linecolor\": \"white\", \"minorgridcolor\": \"white\", \"startlinecolor\": \"#2a3f5f\"}, \"baxis\": {\"endlinecolor\": \"#2a3f5f\", \"gridcolor\": \"white\", \"linecolor\": \"white\", \"minorgridcolor\": \"white\", \"startlinecolor\": \"#2a3f5f\"}, \"type\": \"carpet\"}], \"choropleth\": [{\"colorbar\": {\"outlinewidth\": 0, \"ticks\": \"\"}, \"type\": \"choropleth\"}], \"contour\": [{\"colorbar\": {\"outlinewidth\": 0, \"ticks\": \"\"}, \"colorscale\": [[0.0, \"#0d0887\"], [0.1111111111111111, \"#46039f\"], [0.2222222222222222, \"#7201a8\"], [0.3333333333333333, \"#9c179e\"], [0.4444444444444444, \"#bd3786\"], [0.5555555555555556, \"#d8576b\"], [0.6666666666666666, \"#ed7953\"], [0.7777777777777778, \"#fb9f3a\"], [0.8888888888888888, \"#fdca26\"], [1.0, \"#f0f921\"]], \"type\": \"contour\"}], \"contourcarpet\": [{\"colorbar\": {\"outlinewidth\": 0, \"ticks\": \"\"}, \"type\": \"contourcarpet\"}], \"heatmap\": [{\"colorbar\": {\"outlinewidth\": 0, \"ticks\": \"\"}, \"colorscale\": [[0.0, \"#0d0887\"], [0.1111111111111111, \"#46039f\"], [0.2222222222222222, \"#7201a8\"], [0.3333333333333333, \"#9c179e\"], [0.4444444444444444, \"#bd3786\"], [0.5555555555555556, \"#d8576b\"], [0.6666666666666666, \"#ed7953\"], [0.7777777777777778, \"#fb9f3a\"], [0.8888888888888888, \"#fdca26\"], [1.0, \"#f0f921\"]], \"type\": \"heatmap\"}], \"heatmapgl\": [{\"colorbar\": {\"outlinewidth\": 0, \"ticks\": \"\"}, \"colorscale\": [[0.0, \"#0d0887\"], [0.1111111111111111, \"#46039f\"], [0.2222222222222222, \"#7201a8\"], [0.3333333333333333, \"#9c179e\"], [0.4444444444444444, \"#bd3786\"], [0.5555555555555556, \"#d8576b\"], [0.6666666666666666, \"#ed7953\"], [0.7777777777777778, \"#fb9f3a\"], [0.8888888888888888, \"#fdca26\"], [1.0, \"#f0f921\"]], \"type\": \"heatmapgl\"}], \"histogram\": [{\"marker\": {\"colorbar\": {\"outlinewidth\": 0, \"ticks\": \"\"}}, \"type\": \"histogram\"}], \"histogram2d\": [{\"colorbar\": {\"outlinewidth\": 0, \"ticks\": \"\"}, \"colorscale\": [[0.0, \"#0d0887\"], [0.1111111111111111, \"#46039f\"], [0.2222222222222222, \"#7201a8\"], [0.3333333333333333, \"#9c179e\"], [0.4444444444444444, \"#bd3786\"], [0.5555555555555556, \"#d8576b\"], [0.6666666666666666, \"#ed7953\"], [0.7777777777777778, \"#fb9f3a\"], [0.8888888888888888, \"#fdca26\"], [1.0, \"#f0f921\"]], \"type\": \"histogram2d\"}], \"histogram2dcontour\": [{\"colorbar\": {\"outlinewidth\": 0, \"ticks\": \"\"}, \"colorscale\": [[0.0, \"#0d0887\"], [0.1111111111111111, \"#46039f\"], [0.2222222222222222, \"#7201a8\"], [0.3333333333333333, \"#9c179e\"], [0.4444444444444444, \"#bd3786\"], [0.5555555555555556, \"#d8576b\"], [0.6666666666666666, \"#ed7953\"], [0.7777777777777778, \"#fb9f3a\"], [0.8888888888888888, \"#fdca26\"], [1.0, \"#f0f921\"]], \"type\": \"histogram2dcontour\"}], \"mesh3d\": [{\"colorbar\": {\"outlinewidth\": 0, \"ticks\": \"\"}, \"type\": \"mesh3d\"}], \"parcoords\": [{\"line\": {\"colorbar\": {\"outlinewidth\": 0, \"ticks\": \"\"}}, \"type\": \"parcoords\"}], \"pie\": [{\"automargin\": true, \"type\": \"pie\"}], \"scatter\": [{\"marker\": {\"colorbar\": {\"outlinewidth\": 0, \"ticks\": \"\"}}, \"type\": \"scatter\"}], \"scatter3d\": [{\"line\": {\"colorbar\": {\"outlinewidth\": 0, \"ticks\": \"\"}}, \"marker\": {\"colorbar\": {\"outlinewidth\": 0, \"ticks\": \"\"}}, \"type\": \"scatter3d\"}], \"scattercarpet\": [{\"marker\": {\"colorbar\": {\"outlinewidth\": 0, \"ticks\": \"\"}}, \"type\": \"scattercarpet\"}], \"scattergeo\": [{\"marker\": {\"colorbar\": {\"outlinewidth\": 0, \"ticks\": \"\"}}, \"type\": \"scattergeo\"}], \"scattergl\": [{\"marker\": {\"colorbar\": {\"outlinewidth\": 0, \"ticks\": \"\"}}, \"type\": \"scattergl\"}], \"scattermapbox\": [{\"marker\": {\"colorbar\": {\"outlinewidth\": 0, \"ticks\": \"\"}}, \"type\": \"scattermapbox\"}], \"scatterpolar\": [{\"marker\": {\"colorbar\": {\"outlinewidth\": 0, \"ticks\": \"\"}}, \"type\": \"scatterpolar\"}], \"scatterpolargl\": [{\"marker\": {\"colorbar\": {\"outlinewidth\": 0, \"ticks\": \"\"}}, \"type\": \"scatterpolargl\"}], \"scatterternary\": [{\"marker\": {\"colorbar\": {\"outlinewidth\": 0, \"ticks\": \"\"}}, \"type\": \"scatterternary\"}], \"surface\": [{\"colorbar\": {\"outlinewidth\": 0, \"ticks\": \"\"}, \"colorscale\": [[0.0, \"#0d0887\"], [0.1111111111111111, \"#46039f\"], [0.2222222222222222, \"#7201a8\"], [0.3333333333333333, \"#9c179e\"], [0.4444444444444444, \"#bd3786\"], [0.5555555555555556, \"#d8576b\"], [0.6666666666666666, \"#ed7953\"], [0.7777777777777778, \"#fb9f3a\"], [0.8888888888888888, \"#fdca26\"], [1.0, \"#f0f921\"]], \"type\": \"surface\"}], \"table\": [{\"cells\": {\"fill\": {\"color\": \"#EBF0F8\"}, \"line\": {\"color\": \"white\"}}, \"header\": {\"fill\": {\"color\": \"#C8D4E3\"}, \"line\": {\"color\": \"white\"}}, \"type\": \"table\"}]}, \"layout\": {\"annotationdefaults\": {\"arrowcolor\": \"#2a3f5f\", \"arrowhead\": 0, \"arrowwidth\": 1}, \"coloraxis\": {\"colorbar\": {\"outlinewidth\": 0, \"ticks\": \"\"}}, \"colorscale\": {\"diverging\": [[0, \"#8e0152\"], [0.1, \"#c51b7d\"], [0.2, \"#de77ae\"], [0.3, \"#f1b6da\"], [0.4, \"#fde0ef\"], [0.5, \"#f7f7f7\"], [0.6, \"#e6f5d0\"], [0.7, \"#b8e186\"], [0.8, \"#7fbc41\"], [0.9, \"#4d9221\"], [1, \"#276419\"]], \"sequential\": [[0.0, \"#0d0887\"], [0.1111111111111111, \"#46039f\"], [0.2222222222222222, \"#7201a8\"], [0.3333333333333333, \"#9c179e\"], [0.4444444444444444, \"#bd3786\"], [0.5555555555555556, \"#d8576b\"], [0.6666666666666666, \"#ed7953\"], [0.7777777777777778, \"#fb9f3a\"], [0.8888888888888888, \"#fdca26\"], [1.0, \"#f0f921\"]], \"sequentialminus\": [[0.0, \"#0d0887\"], [0.1111111111111111, \"#46039f\"], [0.2222222222222222, \"#7201a8\"], [0.3333333333333333, \"#9c179e\"], [0.4444444444444444, \"#bd3786\"], [0.5555555555555556, \"#d8576b\"], [0.6666666666666666, \"#ed7953\"], [0.7777777777777778, \"#fb9f3a\"], [0.8888888888888888, \"#fdca26\"], [1.0, \"#f0f921\"]]}, \"colorway\": [\"#636efa\", \"#EF553B\", \"#00cc96\", \"#ab63fa\", \"#FFA15A\", \"#19d3f3\", \"#FF6692\", \"#B6E880\", \"#FF97FF\", \"#FECB52\"], \"font\": {\"color\": \"#2a3f5f\"}, \"geo\": {\"bgcolor\": \"white\", \"lakecolor\": \"white\", \"landcolor\": \"#E5ECF6\", \"showlakes\": true, \"showland\": true, \"subunitcolor\": \"white\"}, \"hoverlabel\": {\"align\": \"left\"}, \"hovermode\": \"closest\", \"mapbox\": {\"style\": \"light\"}, \"paper_bgcolor\": \"white\", \"plot_bgcolor\": \"#E5ECF6\", \"polar\": {\"angularaxis\": {\"gridcolor\": \"white\", \"linecolor\": \"white\", \"ticks\": \"\"}, \"bgcolor\": \"#E5ECF6\", \"radialaxis\": {\"gridcolor\": \"white\", \"linecolor\": \"white\", \"ticks\": \"\"}}, \"scene\": {\"xaxis\": {\"backgroundcolor\": \"#E5ECF6\", \"gridcolor\": \"white\", \"gridwidth\": 2, \"linecolor\": \"white\", \"showbackground\": true, \"ticks\": \"\", \"zerolinecolor\": \"white\"}, \"yaxis\": {\"backgroundcolor\": \"#E5ECF6\", \"gridcolor\": \"white\", \"gridwidth\": 2, \"linecolor\": \"white\", \"showbackground\": true, \"ticks\": \"\", \"zerolinecolor\": \"white\"}, \"zaxis\": {\"backgroundcolor\": \"#E5ECF6\", \"gridcolor\": \"white\", \"gridwidth\": 2, \"linecolor\": \"white\", \"showbackground\": true, \"ticks\": \"\", \"zerolinecolor\": \"white\"}}, \"shapedefaults\": {\"line\": {\"color\": \"#2a3f5f\"}}, \"ternary\": {\"aaxis\": {\"gridcolor\": \"white\", \"linecolor\": \"white\", \"ticks\": \"\"}, \"baxis\": {\"gridcolor\": \"white\", \"linecolor\": \"white\", \"ticks\": \"\"}, \"bgcolor\": \"#E5ECF6\", \"caxis\": {\"gridcolor\": \"white\", \"linecolor\": \"white\", \"ticks\": \"\"}}, \"title\": {\"x\": 0.05}, \"xaxis\": {\"automargin\": true, \"gridcolor\": \"white\", \"linecolor\": \"white\", \"ticks\": \"\", \"title\": {\"standoff\": 15}, \"zerolinecolor\": \"white\", \"zerolinewidth\": 2}, \"yaxis\": {\"automargin\": true, \"gridcolor\": \"white\", \"linecolor\": \"white\", \"ticks\": \"\", \"title\": {\"standoff\": 15}, \"zerolinecolor\": \"white\", \"zerolinewidth\": 2}}}, \"title\": {\"text\": \"Learning Rate\"}, \"xaxis\": {\"title\": {\"text\": \"\\u00c9poca\"}}},\n",
              "                        {\"responsive\": true}\n",
              "                    ).then(function(){\n",
              "                            \n",
              "var gd = document.getElementById('b3a8fb00-ddda-4b4a-8a31-ac317ba15fff');\n",
              "var x = new MutationObserver(function (mutations, observer) {{\n",
              "        var display = window.getComputedStyle(gd).display;\n",
              "        if (!display || display === 'none') {{\n",
              "            console.log([gd, 'removed!']);\n",
              "            Plotly.purge(gd);\n",
              "            observer.disconnect();\n",
              "        }}\n",
              "}});\n",
              "\n",
              "// Listen for the removal of the full notebook cells\n",
              "var notebookContainer = gd.closest('#notebook-container');\n",
              "if (notebookContainer) {{\n",
              "    x.observe(notebookContainer, {childList: true});\n",
              "}}\n",
              "\n",
              "// Listen for the clearing of the current output cell\n",
              "var outputEl = gd.closest('.output');\n",
              "if (outputEl) {{\n",
              "    x.observe(outputEl, {childList: true});\n",
              "}}\n",
              "\n",
              "                        })\n",
              "                };\n",
              "                \n",
              "            </script>\n",
              "        </div>\n",
              "</body>\n",
              "</html>"
            ]
          },
          "metadata": {}
        }
      ]
    },
    {
      "cell_type": "markdown",
      "metadata": {
        "id": "BjxHHVWF6zr4"
      },
      "source": [
        "## (Demora) Testar agente"
      ]
    },
    {
      "cell_type": "code",
      "metadata": {
        "colab": {
          "base_uri": "https://localhost:8080/"
        },
        "id": "jfruOesYfvWe",
        "outputId": "a0724992-5e88-4390-ee92-b7d4ebaa3513"
      },
      "source": [
        "# Evaluate Dagger\n",
        "mean_reward, std_reward = evaluate_policy(dagger_student, env, n_eval_episodes=10)\n",
        "\n",
        "print(f\"Recompensa média = {mean_reward} +/- {std_reward}\")"
      ],
      "execution_count": 175,
      "outputs": [
        {
          "output_type": "stream",
          "name": "stdout",
          "text": [
            "Recompensa média = 15.0 +/- 11.670475568716126\n"
          ]
        }
      ]
    },
    {
      "cell_type": "markdown",
      "metadata": {
        "id": "pcf61r-o63sz"
      },
      "source": [
        "## Visualizar Frames"
      ]
    },
    {
      "cell_type": "code",
      "metadata": {
        "colab": {
          "base_uri": "https://localhost:8080/"
        },
        "id": "Z3sJjggif0_K",
        "outputId": "f00699c6-6567-459a-f2ea-6bc1f918ab52"
      },
      "source": [
        "frames = []\n",
        "episodes = 1\n",
        "for episode in range(1, episodes+1):\n",
        "    obs = env.reset()\n",
        "    done = False\n",
        "    score = 0\n",
        "    while not done:\n",
        "        frames.append(env.render(mode='rgb_array'))\n",
        "        action = dagger_student.predict(obs, deterministic=True)\n",
        "        n_obs, reward, done, info = env.step(action)\n",
        "        score += reward\n",
        "        obs = n_obs.copy()\n",
        "    print(\"\\n\\nEpisódio: {} Pontuação: {}\".format(episode,score))\n",
        "env.close()"
      ],
      "execution_count": 176,
      "outputs": [
        {
          "output_type": "stream",
          "name": "stdout",
          "text": [
            "\n",
            "\n",
            "Episódio: 1 Pontuação: [17.]\n"
          ]
        }
      ]
    },
    {
      "cell_type": "code",
      "metadata": {
        "id": "i1hPMcT-f502"
      },
      "source": [
        "display.HTML(display_anim(frames))"
      ],
      "execution_count": null,
      "outputs": []
    }
  ]
}